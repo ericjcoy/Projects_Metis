{
 "cells": [
  {
   "cell_type": "markdown",
   "metadata": {},
   "source": [
    "# Project 4\n",
    "Ming Tang\n",
    "\n",
    "This is my 4th project at Metis/Chicago. In this project, I did the following analysis\n",
    "1. analyzed the text data of hotel review\n",
    "2. predict the sentiment of the review content\n",
    "3. build a recommender based on the topic modeling on the review content"
   ]
  },
  {
   "cell_type": "markdown",
   "metadata": {},
   "source": [
    "### Import packages"
   ]
  },
  {
   "cell_type": "code",
   "execution_count": 1,
   "metadata": {
    "collapsed": true
   },
   "outputs": [],
   "source": [
    "# for plot\n",
    "%matplotlib inline\n",
    "import matplotlib.pyplot as plt\n",
    "\n",
    "# Display full output in Jupyter, not only last result.\n",
    "from IPython.core.interactiveshell import InteractiveShell\n",
    "InteractiveShell.ast_node_interactivity = \"all\"\n",
    "\n",
    "# Pandas\n",
    "import numpy as np\n",
    "import pandas as pd"
   ]
  },
  {
   "cell_type": "markdown",
   "metadata": {},
   "source": [
    "### Read data\n",
    "* The dataset is downloaded from Kaggle and uploaded to my GitHub.\n",
    "* Original source: https://www.kaggle.com/datafiniti/hotel-reviews/data"
   ]
  },
  {
   "cell_type": "code",
   "execution_count": 2,
   "metadata": {
    "collapsed": true
   },
   "outputs": [],
   "source": [
    "df_raw = pd.read_csv('https://raw.githubusercontent.com/tangming2008/datasets/master/datasets/metis_class/7282_1.csv')\n",
    "df_raw.columns = ['address', 'categories', 'city', 'country', 'latitude', 'longitude', 'name', 'postalCode', 'province', 'reviews.date', 'reviews.dateAdded', 'reviews.doRecommend', 'reviews.id', 'reviews.rating', 'reviews.text', 'reviews.title','reviews.userCity','reviews.username','reviews.userProvince']\n",
    "cols = ['categories', 'city', 'name', 'province', 'reviews.rating', 'reviews.text', 'reviews.title']\n",
    "df_raw = df_raw.loc[:,cols]\n",
    "df_raw.columns = ['categories', 'city', 'hotel', 'province', 'reviews_rating', 'reviews_text', 'reviews_title']\n",
    "# df_raw.head(2)\n",
    "df = df_raw\n",
    "df = df[pd.notnull(df['reviews_rating'])]\n",
    "df = df[pd.notnull(df['reviews_text'])]\n",
    "df = df[pd.notnull(df['province'])]\n",
    "df = df[pd.notnull(df['hotel'])]\n",
    "# df = df[df['province'] == 'IL']"
   ]
  },
  {
   "cell_type": "code",
   "execution_count": 3,
   "metadata": {
    "collapsed": true
   },
   "outputs": [],
   "source": [
    "# df.groupby('hotel')['reviews_rating'].mean().sort_values(ascending = False)[:5]"
   ]
  },
  {
   "cell_type": "markdown",
   "metadata": {},
   "source": [
    "### Exploratory Data Analysis"
   ]
  },
  {
   "cell_type": "code",
   "execution_count": 4,
   "metadata": {},
   "outputs": [
    {
     "data": {
      "text/plain": [
       "<matplotlib.axes._subplots.AxesSubplot at 0x11826bdd8>"
      ]
     },
     "execution_count": 4,
     "metadata": {},
     "output_type": "execute_result"
    },
    {
     "data": {
      "image/png": "[encoded data removed]",
      "text/plain": [
       "<matplotlib.figure.Figure at 0x11838acf8>"
      ]
     },
     "metadata": {},
     "output_type": "display_data"
    }
   ],
   "source": [
    "top = 5\n",
    "\n",
    "# How many counts for each hotel\n",
    "df_hotel = df.groupby('hotel')['reviews_title'].count()\n",
    "df_hotel = df_hotel.sort_values(ascending = False)[:top]\n",
    "# type(df_hotel)\n",
    "# df_hotel.head()\n",
    "df_hotel.plot(kind = 'barh', figsize=(5, 3))"
   ]
  },
  {
   "cell_type": "code",
   "execution_count": 5,
   "metadata": {},
   "outputs": [
    {
     "data": {
      "text/plain": [
       "<matplotlib.axes._subplots.AxesSubplot at 0x114fbaf28>"
      ]
     },
     "execution_count": 5,
     "metadata": {},
     "output_type": "execute_result"
    },
    {
     "data": {
      "image/png": "[encoded data removed]",
      "text/plain": [
       "<matplotlib.figure.Figure at 0x115575b70>"
      ]
     },
     "metadata": {},
     "output_type": "display_data"
    }
   ],
   "source": [
    "# Top hotels with the highest rate\n",
    "df_hotel_top = df.groupby('hotel')['reviews_rating'].mean()\n",
    "df_hotel_top_IL = df[df['province'] == 'IL'].groupby('hotel')['reviews_rating'].mean()\n",
    "df_hotel_top_IL = df_hotel_top_IL.sort_values(ascending = False)[:top]\n",
    "df_hotel_top_IL.plot(kind = 'barh', figsize=(5, 3))"
   ]
  },
  {
   "cell_type": "markdown",
   "metadata": {},
   "source": [
    "Get a list of hotels\n",
    "* we can either look through the dataframe (column) or the groupbyed series (index)"
   ]
  },
  {
   "cell_type": "code",
   "execution_count": 8,
   "metadata": {},
   "outputs": [
    {
     "name": "stdout",
     "output_type": "stream",
     "text": [
      "How many hotels in total? -- 792\n"
     ]
    }
   ],
   "source": [
    "list_hotels = []\n",
    "for x, y in df.groupby('hotel'):\n",
    "    # print('x --', x)\n",
    "    # print('y --', y)\n",
    "    list_hotels.append(x)\n",
    "    \n",
    "print('How many hotels in total? --', len(list_hotels))\n",
    "\n",
    "list_hotels2 = []\n",
    "for hotel in df_hotel_top.index:\n",
    "    # print(hotel)\n",
    "    list_hotels2.append(hotel)\n",
    "    \n",
    "# len(list_hotels2)"
   ]
  },
  {
   "cell_type": "markdown",
   "metadata": {},
   "source": [
    "Word Cloud for showing all hotels"
   ]
  },
  {
   "cell_type": "code",
   "execution_count": 9,
   "metadata": {},
   "outputs": [
    {
     "data": {
      "text/plain": [
       "<matplotlib.figure.Figure at 0x114ca1ba8>"
      ]
     },
     "execution_count": 9,
     "metadata": {},
     "output_type": "execute_result"
    },
    {
     "data": {
      "text/plain": [
       "<matplotlib.image.AxesImage at 0x10be96780>"
      ]
     },
     "execution_count": 9,
     "metadata": {},
     "output_type": "execute_result"
    },
    {
     "data": {
      "text/plain": [
       "(-0.5, 399.5, 199.5, -0.5)"
      ]
     },
     "execution_count": 9,
     "metadata": {},
     "output_type": "execute_result"
    },
    {
     "data": {
      "image/png": "[encoded data removed]",
      "text/plain": [
       "<matplotlib.figure.Figure at 0x114ca1ba8>"
      ]
     },
     "metadata": {},
     "output_type": "display_data"
    }
   ],
   "source": [
    "from wordcloud import WordCloud, STOPWORDS\n",
    "\n",
    "cloud_text = ' '.join([hotel for hotel in list_hotels])\n",
    "wordcloud = WordCloud(stopwords=STOPWORDS, background_color = 'white').generate(cloud_text)\n",
    "plt.figure(figsize=(5,3))\n",
    "plt.imshow(wordcloud)\n",
    "plt.axis('off')\n",
    "plt.show()"
   ]
  },
  {
   "cell_type": "markdown",
   "metadata": {},
   "source": [
    "# Result-1: Sentiment Analysis & Predictions\n",
    "* Use TextBlob to predict the sentiment scores based on the review content and compare with given review rate"
   ]
  },
  {
   "cell_type": "code",
   "execution_count": 10,
   "metadata": {},
   "outputs": [
    {
     "data": {
      "text/html": [
       "<div>\n",
       "<style scoped>\n",
       "    .dataframe tbody tr th:only-of-type {\n",
       "        vertical-align: middle;\n",
       "    }\n",
       "\n",
       "    .dataframe tbody tr th {\n",
       "        vertical-align: top;\n",
       "    }\n",
       "\n",
       "    .dataframe thead th {\n",
       "        text-align: right;\n",
       "    }\n",
       "</style>\n",
       "<table border=\"1\" class=\"dataframe\">\n",
       "  <thead>\n",
       "    <tr style=\"text-align: right;\">\n",
       "      <th></th>\n",
       "      <th>categories</th>\n",
       "      <th>city</th>\n",
       "      <th>hotel</th>\n",
       "      <th>province</th>\n",
       "      <th>reviews_rating</th>\n",
       "      <th>reviews_text</th>\n",
       "      <th>reviews_title</th>\n",
       "    </tr>\n",
       "  </thead>\n",
       "  <tbody>\n",
       "    <tr>\n",
       "      <th>2596</th>\n",
       "      <td>Hotels</td>\n",
       "      <td>Westmont</td>\n",
       "      <td>Extended Stay America - Chicago - Westmont - O...</td>\n",
       "      <td>IL</td>\n",
       "      <td>2.0</td>\n",
       "      <td>Hotel amenities are really not good. We took e...</td>\n",
       "      <td>Below average</td>\n",
       "    </tr>\n",
       "    <tr>\n",
       "      <th>2597</th>\n",
       "      <td>Hotels</td>\n",
       "      <td>Westmont</td>\n",
       "      <td>Extended Stay America - Chicago - Westmont - O...</td>\n",
       "      <td>IL</td>\n",
       "      <td>5.0</td>\n",
       "      <td>It was relaxing</td>\n",
       "      <td>great day at extended stay</td>\n",
       "    </tr>\n",
       "  </tbody>\n",
       "</table>\n",
       "</div>"
      ],
      "text/plain": [
       "     categories      city                                              hotel  \\\n",
       "2596     Hotels  Westmont  Extended Stay America - Chicago - Westmont - O...   \n",
       "2597     Hotels  Westmont  Extended Stay America - Chicago - Westmont - O...   \n",
       "\n",
       "     province  reviews_rating  \\\n",
       "2596       IL             2.0   \n",
       "2597       IL             5.0   \n",
       "\n",
       "                                           reviews_text  \\\n",
       "2596  Hotel amenities are really not good. We took e...   \n",
       "2597                                    It was relaxing   \n",
       "\n",
       "                   reviews_title  \n",
       "2596               Below average  \n",
       "2597  great day at extended stay  "
      ]
     },
     "execution_count": 10,
     "metadata": {},
     "output_type": "execute_result"
    }
   ],
   "source": [
    "df_senti = df[df['province'] == 'IL']\n",
    "\n",
    "# df_senti[df_senti[['review']].apply(lambda x: x[0].isdigit(), axis=1)]\n",
    "# df['Top4'] = df['Rank'].apply(lambda x: 1 if x < 5 else 0)\n",
    "df_senti.head(2)"
   ]
  },
  {
   "cell_type": "code",
   "execution_count": 11,
   "metadata": {},
   "outputs": [
    {
     "name": "stdout",
     "output_type": "stream",
     "text": [
      "len(list_response) --- 586\n",
      "len(list_score) --- 586\n",
      "len(list_score_pos_nag) --- 586\n"
     ]
    },
    {
     "name": "stderr",
     "output_type": "stream",
     "text": [
      "/Users/MingTang/anaconda/lib/python3.6/site-packages/ipykernel_launcher.py:27: SettingWithCopyWarning: \n",
      "A value is trying to be set on a copy of a slice from a DataFrame.\n",
      "Try using .loc[row_indexer,col_indexer] = value instead\n",
      "\n",
      "See the caveats in the documentation: http://pandas.pydata.org/pandas-docs/stable/indexing.html#indexing-view-versus-copy\n",
      "/Users/MingTang/anaconda/lib/python3.6/site-packages/ipykernel_launcher.py:28: SettingWithCopyWarning: \n",
      "A value is trying to be set on a copy of a slice from a DataFrame.\n",
      "Try using .loc[row_indexer,col_indexer] = value instead\n",
      "\n",
      "See the caveats in the documentation: http://pandas.pydata.org/pandas-docs/stable/indexing.html#indexing-view-versus-copy\n",
      "/Users/MingTang/anaconda/lib/python3.6/site-packages/ipykernel_launcher.py:29: SettingWithCopyWarning: \n",
      "A value is trying to be set on a copy of a slice from a DataFrame.\n",
      "Try using .loc[row_indexer,col_indexer] = value instead\n",
      "\n",
      "See the caveats in the documentation: http://pandas.pydata.org/pandas-docs/stable/indexing.html#indexing-view-versus-copy\n"
     ]
    }
   ],
   "source": [
    "from textblob import TextBlob\n",
    "\n",
    "list_response = []\n",
    "list_score = []\n",
    "list_score_pos_nag = []\n",
    "\n",
    "for item in df_senti['reviews_rating']:\n",
    "    if item < 2.5:\n",
    "        list_response.append(-1)\n",
    "    if item >= 2.5:\n",
    "        list_response.append(1)\n",
    "\n",
    "text = 'reviews_text'\n",
    "\n",
    "for item in df_senti[text]:\n",
    "    score = TextBlob(item).sentiment[0]\n",
    "    list_score.append(score)\n",
    "    if score > 0:\n",
    "        list_score_pos_nag.append(1)\n",
    "    if score <= 0:\n",
    "        list_score_pos_nag.append(-1)\n",
    "\n",
    "print('len(list_response) ---', len(list_response))\n",
    "print('len(list_score) ---', len(list_score))\n",
    "print('len(list_score_pos_nag) ---', len(list_score_pos_nag))\n",
    "      \n",
    "df_senti['response'] = pd.Series(list_response).values\n",
    "df_senti['senti_score'] = pd.Series(list_score).values\n",
    "df_senti['senti_pos_nag'] = pd.Series(list_score_pos_nag).values"
   ]
  },
  {
   "cell_type": "code",
   "execution_count": 12,
   "metadata": {
    "collapsed": true
   },
   "outputs": [],
   "source": [
    "df_senti_review_rate = df_senti.groupby('hotel')['reviews_rating'].agg(['min', 'max','count','mean'])\n",
    "df_senti_sentiment_score = df_senti.groupby('hotel')['senti_score'].agg(['min', 'max','count','mean'])"
   ]
  },
  {
   "cell_type": "code",
   "execution_count": 14,
   "metadata": {},
   "outputs": [
    {
     "data": {
      "text/html": [
       "<div>\n",
       "<style scoped>\n",
       "    .dataframe tbody tr th:only-of-type {\n",
       "        vertical-align: middle;\n",
       "    }\n",
       "\n",
       "    .dataframe tbody tr th {\n",
       "        vertical-align: top;\n",
       "    }\n",
       "\n",
       "    .dataframe thead th {\n",
       "        text-align: right;\n",
       "    }\n",
       "</style>\n",
       "<table border=\"1\" class=\"dataframe\">\n",
       "  <thead>\n",
       "    <tr style=\"text-align: right;\">\n",
       "      <th></th>\n",
       "      <th>categories</th>\n",
       "      <th>city</th>\n",
       "      <th>hotel</th>\n",
       "      <th>province</th>\n",
       "      <th>reviews_rating</th>\n",
       "      <th>reviews_text</th>\n",
       "      <th>reviews_title</th>\n",
       "      <th>response</th>\n",
       "      <th>senti_score</th>\n",
       "      <th>senti_pos_nag</th>\n",
       "    </tr>\n",
       "  </thead>\n",
       "  <tbody>\n",
       "    <tr>\n",
       "      <th>2596</th>\n",
       "      <td>Hotels</td>\n",
       "      <td>Westmont</td>\n",
       "      <td>Extended Stay America - Chicago - Westmont - O...</td>\n",
       "      <td>IL</td>\n",
       "      <td>2.0</td>\n",
       "      <td>Hotel amenities are really not good. We took e...</td>\n",
       "      <td>Below average</td>\n",
       "      <td>-1</td>\n",
       "      <td>-0.266667</td>\n",
       "      <td>-1</td>\n",
       "    </tr>\n",
       "    <tr>\n",
       "      <th>2597</th>\n",
       "      <td>Hotels</td>\n",
       "      <td>Westmont</td>\n",
       "      <td>Extended Stay America - Chicago - Westmont - O...</td>\n",
       "      <td>IL</td>\n",
       "      <td>5.0</td>\n",
       "      <td>It was relaxing</td>\n",
       "      <td>great day at extended stay</td>\n",
       "      <td>1</td>\n",
       "      <td>0.000000</td>\n",
       "      <td>-1</td>\n",
       "    </tr>\n",
       "  </tbody>\n",
       "</table>\n",
       "</div>"
      ],
      "text/plain": [
       "     categories      city                                              hotel  \\\n",
       "2596     Hotels  Westmont  Extended Stay America - Chicago - Westmont - O...   \n",
       "2597     Hotels  Westmont  Extended Stay America - Chicago - Westmont - O...   \n",
       "\n",
       "     province  reviews_rating  \\\n",
       "2596       IL             2.0   \n",
       "2597       IL             5.0   \n",
       "\n",
       "                                           reviews_text  \\\n",
       "2596  Hotel amenities are really not good. We took e...   \n",
       "2597                                    It was relaxing   \n",
       "\n",
       "                   reviews_title  response  senti_score  senti_pos_nag  \n",
       "2596               Below average        -1    -0.266667             -1  \n",
       "2597  great day at extended stay         1     0.000000             -1  "
      ]
     },
     "execution_count": 14,
     "metadata": {},
     "output_type": "execute_result"
    }
   ],
   "source": [
    "df_senti.head(2)"
   ]
  },
  {
   "cell_type": "markdown",
   "metadata": {},
   "source": [
    "### Confusion matrix\n",
    "* Performed binary predictions (positive or negative) and ploted in the confusion matrix"
   ]
  },
  {
   "cell_type": "code",
   "execution_count": 15,
   "metadata": {},
   "outputs": [
    {
     "name": "stdout",
     "output_type": "stream",
     "text": [
      "a -- 449 \n",
      "b -- 31 \n",
      "c -- 56 \n",
      "d -- 50\n"
     ]
    }
   ],
   "source": [
    "a = 0\n",
    "b = 0\n",
    "c = 0\n",
    "d = 0\n",
    "for index, value in enumerate(list_score_pos_nag):\n",
    "    # print(index)\n",
    "    # print('score--', list_score[index])\n",
    "    # print('response --', list_response[index])\n",
    "    if (list_score_pos_nag[index] == 1 and list_response[index] == 1):\n",
    "        a = a + 1\n",
    "    if (list_score_pos_nag[index] == 1 and list_response[index] == -1):\n",
    "        b = b + 1\n",
    "    if (list_score_pos_nag[index] == -1 and list_response[index] == 1):\n",
    "        c = c + 1\n",
    "    if (list_score_pos_nag[index] == -1 and list_response[index] == -1):\n",
    "        d = d + 1\n",
    "print('a --', a, '\\nb --', b, '\\nc --',c ,'\\nd --', d)"
   ]
  },
  {
   "cell_type": "code",
   "execution_count": 16,
   "metadata": {},
   "outputs": [
    {
     "data": {
      "text/plain": [
       "<matplotlib.figure.Figure at 0x11ba99da0>"
      ]
     },
     "execution_count": 16,
     "metadata": {},
     "output_type": "execute_result"
    },
    {
     "data": {
      "text/plain": [
       "<matplotlib.axes._subplots.AxesSubplot at 0x11ba57198>"
      ]
     },
     "execution_count": 16,
     "metadata": {},
     "output_type": "execute_result"
    },
    {
     "data": {
      "image/png": "[encoded data removed]",
      "text/plain": [
       "<matplotlib.figure.Figure at 0x11ba99da0>"
      ]
     },
     "metadata": {},
     "output_type": "display_data"
    }
   ],
   "source": [
    "import seaborn as sn\n",
    "import pandas as pd\n",
    "import matplotlib.pyplot as plt\n",
    "array = [[a,c], \n",
    "        [b,d]]\n",
    "\n",
    "def normalize(v):\n",
    "    norm=np.linalg.norm(v, ord=1)\n",
    "    if norm==0:\n",
    "        norm=np.finfo(v.dtype).eps\n",
    "    return v/norm\n",
    "\n",
    "array = normalize(array)\n",
    "\n",
    "df_cm = pd.DataFrame(array, index = [i for i in ['Positive', 'Negative']],\n",
    "                  columns = [i for i in ['Positive', 'Negative']])\n",
    "plt.figure(figsize = (4,3))\n",
    "sn.heatmap(df_cm, annot=True)"
   ]
  },
  {
   "cell_type": "markdown",
   "metadata": {},
   "source": [
    "### Plots for comparison\n",
    "1. top N hotels with highest review rates\n",
    "2. top N hotels with highest sentiment scores (predicted based on the content)\n",
    "\n",
    "NOTE: hotels with < 10 reviews were excluded"
   ]
  },
  {
   "cell_type": "code",
   "execution_count": 17,
   "metadata": {},
   "outputs": [
    {
     "name": "stdout",
     "output_type": "stream",
     "text": [
      "How many hotels in IL? Answer:  586\n"
     ]
    }
   ],
   "source": [
    "list_hotels_IL = []\n",
    "for hotels in df_senti['hotel']:\n",
    "    list_hotels_IL.append(hotel)\n",
    "\n",
    "print('How many hotels in IL? Answer: ', len(list_hotels_IL))"
   ]
  },
  {
   "cell_type": "code",
   "execution_count": 18,
   "metadata": {},
   "outputs": [
    {
     "data": {
      "text/plain": [
       "<matplotlib.axes._subplots.AxesSubplot at 0x11b9f6e80>"
      ]
     },
     "execution_count": 18,
     "metadata": {},
     "output_type": "execute_result"
    },
    {
     "data": {
      "image/png": "[encoded data removed]",
      "text/plain": [
       "<matplotlib.figure.Figure at 0x11ba378d0>"
      ]
     },
     "metadata": {},
     "output_type": "display_data"
    }
   ],
   "source": [
    "top = 6\n",
    "to_plot3 =  df_senti_review_rate['mean'][df_senti_review_rate['count'] > 10]\n",
    "to_plot3 = to_plot3.sort_values(ascending = False)[:top]\n",
    "to_plot3.plot(kind = 'barh', figsize=(6, 2))"
   ]
  },
  {
   "cell_type": "code",
   "execution_count": 19,
   "metadata": {},
   "outputs": [
    {
     "data": {
      "text/plain": [
       "<matplotlib.axes._subplots.AxesSubplot at 0x11b981048>"
      ]
     },
     "execution_count": 19,
     "metadata": {},
     "output_type": "execute_result"
    },
    {
     "data": {
      "image/png": "[encoded data removed]",
      "text/plain": [
       "<matplotlib.figure.Figure at 0x11b946f28>"
      ]
     },
     "metadata": {},
     "output_type": "display_data"
    }
   ],
   "source": [
    "to_plot4 =  df_senti_sentiment_score['mean'][df_senti_sentiment_score['count'] > 10]\n",
    "to_plot4 = to_plot4.sort_values(ascending = False)[:top]\n",
    "to_plot4.plot(kind = 'barh', figsize=(6, 2))"
   ]
  },
  {
   "cell_type": "markdown",
   "metadata": {},
   "source": [
    "# Recommend hotels"
   ]
  },
  {
   "cell_type": "code",
   "execution_count": 20,
   "metadata": {
    "collapsed": true
   },
   "outputs": [],
   "source": [
    "df_raw2 = pd.read_csv('https://raw.githubusercontent.com/tangming2008/datasets/master/datasets/metis_class/7282_1.csv')\n",
    "df_raw2.columns = ['address', 'categories', 'city', 'country', 'latitude', 'longitude', 'name', 'postalCode', 'province', 'reviews.date', 'reviews.dateAdded', 'reviews.doRecommend', 'reviews.id', 'reviews.rating', 'reviews.text', 'reviews.title','reviews.userCity','reviews.username','reviews.userProvince']\n",
    "cols = ['address','city', 'name', 'province', 'reviews.rating', 'reviews.text']#, 'reviews.title']\n",
    "df_raw2 = df_raw2.loc[:,cols]\n",
    "df_raw2.columns = ['address', 'city', 'tags', 'province', 'reviews_rating', 'Description']#, 'reviews_title']\n",
    "# df_raw2.columns = ['address', 'city', 'hotel_name', 'province', 'reviews_rating', 'review_content']\n",
    "\n",
    "df_raw2 = df_raw2[pd.notnull(df_raw2['reviews_rating'])]\n",
    "df_raw2 = df_raw2[pd.notnull(df_raw2['Description'])]\n",
    "df_raw2 = df_raw2[pd.notnull(df_raw2['province'])]\n",
    "df_raw2 = df_raw2[pd.notnull(df_raw2['tags'])]"
   ]
  },
  {
   "cell_type": "code",
   "execution_count": 22,
   "metadata": {},
   "outputs": [
    {
     "data": {
      "text/html": [
       "<div>\n",
       "<style scoped>\n",
       "    .dataframe tbody tr th:only-of-type {\n",
       "        vertical-align: middle;\n",
       "    }\n",
       "\n",
       "    .dataframe tbody tr th {\n",
       "        vertical-align: top;\n",
       "    }\n",
       "\n",
       "    .dataframe thead th {\n",
       "        text-align: right;\n",
       "    }\n",
       "</style>\n",
       "<table border=\"1\" class=\"dataframe\">\n",
       "  <thead>\n",
       "    <tr style=\"text-align: right;\">\n",
       "      <th></th>\n",
       "      <th>address</th>\n",
       "      <th>city</th>\n",
       "      <th>tags</th>\n",
       "      <th>province</th>\n",
       "      <th>reviews_rating</th>\n",
       "      <th>Description</th>\n",
       "    </tr>\n",
       "  </thead>\n",
       "  <tbody>\n",
       "    <tr>\n",
       "      <th>2596</th>\n",
       "      <td>855 Pasquinelli Dr</td>\n",
       "      <td>Westmont</td>\n",
       "      <td>Extended Stay America - Chicago - Westmont - O...</td>\n",
       "      <td>IL</td>\n",
       "      <td>2.0</td>\n",
       "      <td>Hotel amenities are really not good. We took e...</td>\n",
       "    </tr>\n",
       "    <tr>\n",
       "      <th>2597</th>\n",
       "      <td>855 Pasquinelli Dr</td>\n",
       "      <td>Westmont</td>\n",
       "      <td>Extended Stay America - Chicago - Westmont - O...</td>\n",
       "      <td>IL</td>\n",
       "      <td>5.0</td>\n",
       "      <td>It was relaxing</td>\n",
       "    </tr>\n",
       "  </tbody>\n",
       "</table>\n",
       "</div>"
      ],
      "text/plain": [
       "                 address      city  \\\n",
       "2596  855 Pasquinelli Dr  Westmont   \n",
       "2597  855 Pasquinelli Dr  Westmont   \n",
       "\n",
       "                                                   tags province  \\\n",
       "2596  Extended Stay America - Chicago - Westmont - O...       IL   \n",
       "2597  Extended Stay America - Chicago - Westmont - O...       IL   \n",
       "\n",
       "      reviews_rating                                        Description  \n",
       "2596             2.0  Hotel amenities are really not good. We took e...  \n",
       "2597             5.0                                    It was relaxing  "
      ]
     },
     "execution_count": 22,
     "metadata": {},
     "output_type": "execute_result"
    }
   ],
   "source": [
    "test_state = 'IL'\n",
    "\n",
    "list_hotel_train = []\n",
    "list_hotel_test = []\n",
    "list_address_train = []\n",
    "list_address_test = []\n",
    "list_content_train = []\n",
    "list_content_test = []\n",
    "\n",
    "\n",
    "for item in df_raw2[df_raw2['province'] != test_state]['Description']:\n",
    "        list_content_train.append(item)\n",
    "for item in df_raw2[df_raw2['province'] != test_state]['tags']:\n",
    "        list_hotel_train.append(item)\n",
    "for item in df_raw2[df_raw2['province'] != test_state]['address']:\n",
    "        list_address_train.append(item)\n",
    "        \n",
    "for item in df_raw2[df_raw2['province'] == test_state]['Description']:\n",
    "        list_content_test.append(item)\n",
    "for item in df_raw2[df_raw2['province'] == test_state]['tags']:\n",
    "        list_hotel_test.append(item)\n",
    "for item in df_raw2[df_raw2['province'] == test_state]['address']:\n",
    "        list_address_test.append(item)\n",
    "\n",
    "df_raw2[df_raw2['province'] == 'IL'].head(2)"
   ]
  },
  {
   "cell_type": "code",
   "execution_count": 24,
   "metadata": {},
   "outputs": [
    {
     "name": "stdout",
     "output_type": "stream",
     "text": [
      "list_hotel_train -- 34442\n",
      "list_address_train -- 34442\n",
      "list_content_train -- 34442\n",
      "list_hotel_test -- 586\n",
      "list_address_test -- 586\n",
      "list_content_test -- 586\n"
     ]
    }
   ],
   "source": [
    "print('list_hotel_train --', len(list_hotel_train))\n",
    "print('list_address_train --', len(list_address_train))\n",
    "print('list_content_train --', len(list_content_train))\n",
    "\n",
    "print('list_hotel_test --', len(list_hotel_test))\n",
    "print('list_address_test --', len(list_address_test))\n",
    "print('list_content_test --', len(list_content_test))"
   ]
  },
  {
   "cell_type": "code",
   "execution_count": 25,
   "metadata": {
    "collapsed": true
   },
   "outputs": [],
   "source": [
    "import warnings\n",
    "warnings.filterwarnings(\"ignore\",category=DeprecationWarning)\n",
    "import numpy as np\n",
    "import nltk\n",
    "import os\n",
    "from sklearn import datasets"
   ]
  },
  {
   "cell_type": "code",
   "execution_count": 26,
   "metadata": {
    "collapsed": true
   },
   "outputs": [],
   "source": [
    "ng_train = list_content_train"
   ]
  },
  {
   "cell_type": "code",
   "execution_count": 27,
   "metadata": {
    "collapsed": true
   },
   "outputs": [],
   "source": [
    "from sklearn.feature_extraction.text import CountVectorizer, TfidfVectorizer\n",
    "\n",
    "count_vectorizer = CountVectorizer(ngram_range=(1, 2),  \n",
    "                                   stop_words='english', \n",
    "                                   token_pattern=\"\\\\b[a-z][a-z]+\\\\b\",\n",
    "                                   lowercase=True,\n",
    "                                   max_df = 0.6)\n",
    "tfidf_vectorizer = TfidfVectorizer(ngram_range=(1, 2),  \n",
    "                                   stop_words='english', \n",
    "                                   token_pattern=\"\\\\b[a-z][a-z]+\\\\b\",\n",
    "                                   lowercase=True,\n",
    "                                   max_df = 0.6)\n",
    "\n",
    "cv_data = count_vectorizer.fit_transform(ng_train)\n",
    "tfidf_data = tfidf_vectorizer.fit_transform(ng_train)"
   ]
  },
  {
   "cell_type": "code",
   "execution_count": 28,
   "metadata": {
    "collapsed": true
   },
   "outputs": [],
   "source": [
    "def display_topics(model, feature_names, no_top_words, topic_names=None):\n",
    "    for ix, topic in enumerate(model.components_):\n",
    "        if not topic_names or not topic_names[ix]:\n",
    "            print(\"\\nTopic \", ix)\n",
    "            # print('topic --', topic)\n",
    "            # print('topic_names --', topic_names)\n",
    "        else:\n",
    "            print(\"\\nTopic \", ix)\n",
    "            print('topic --', topic)\n",
    "            print(\"\\nTopic: '\",topic_names[ix],\"'\")\n",
    "        print(\", \".join([feature_names[i]\n",
    "                        for i in topic.argsort()[:-no_top_words - 1:-1]]))"
   ]
  },
  {
   "cell_type": "code",
   "execution_count": 29,
   "metadata": {
    "collapsed": true
   },
   "outputs": [],
   "source": [
    "from sklearn.decomposition import NMF, TruncatedSVD\n",
    "\n",
    "n_comp = 5\n",
    "lsa_tfidf = TruncatedSVD(n_components=n_comp)\n",
    "lsa_cv = TruncatedSVD(n_components=n_comp)\n",
    "nmf_cv = NMF(n_components=n_comp)\n",
    "\n",
    "lsa_tfidf_data = lsa_tfidf.fit_transform(tfidf_data)\n",
    "lsa_cv_data = lsa_cv.fit_transform(cv_data)\n",
    "nmf_cv_data = nmf_cv.fit_transform(cv_data)"
   ]
  },
  {
   "cell_type": "code",
   "execution_count": 30,
   "metadata": {
    "collapsed": true
   },
   "outputs": [],
   "source": [
    "head = 5"
   ]
  },
  {
   "cell_type": "code",
   "execution_count": 31,
   "metadata": {},
   "outputs": [
    {
     "name": "stdout",
     "output_type": "stream",
     "text": [
      "\n",
      "Topic  0\n",
      "great, room, hotel, nice, stay\n",
      "\n",
      "Topic  1\n",
      "businesswith yp, visitors united, yp visitors, yp, united statesand\n",
      "\n",
      "Topic  2\n",
      "great, great stay, great location, great place, great hotel\n",
      "\n",
      "Topic  3\n",
      "xxxxxxxxxxxxxxxxxxxxxxxxxxxxxxxxxxxxxxxxxx, service, excellent, ok, great stay\n",
      "\n",
      "Topic  4\n",
      "good, great, good location, location, breakfast good\n"
     ]
    }
   ],
   "source": [
    "display_topics(lsa_tfidf,count_vectorizer.get_feature_names(),head)"
   ]
  },
  {
   "cell_type": "code",
   "execution_count": 32,
   "metadata": {},
   "outputs": [
    {
     "name": "stdout",
     "output_type": "stream",
     "text": [
      "\n",
      "Topic  0\n",
      "room, hotel, stay, staff, clean\n",
      "\n",
      "Topic  1\n",
      "room, bed, desk, did, door\n",
      "\n",
      "Topic  2\n",
      "hotel, room, told, did, booked\n",
      "\n",
      "Topic  3\n",
      "great, stay, place, time, service\n",
      "\n",
      "Topic  4\n",
      "stay, night, place, nice, place stay\n"
     ]
    }
   ],
   "source": [
    "display_topics(lsa_cv,count_vectorizer.get_feature_names(),head)"
   ]
  },
  {
   "cell_type": "code",
   "execution_count": 33,
   "metadata": {},
   "outputs": [
    {
     "name": "stdout",
     "output_type": "stream",
     "text": [
      "\n",
      "Topic  0\n",
      "hotel, rooms, night, stayed, old\n",
      "\n",
      "Topic  1\n",
      "room, bed, desk, night, did\n",
      "\n",
      "Topic  2\n",
      "clean, staff, breakfast, nice, good\n",
      "\n",
      "Topic  3\n",
      "great, location, service, staff, great location\n",
      "\n",
      "Topic  4\n",
      "stay, place, night, place stay, time\n"
     ]
    }
   ],
   "source": [
    "display_topics(nmf_cv,count_vectorizer.get_feature_names(),head)"
   ]
  },
  {
   "cell_type": "code",
   "execution_count": 34,
   "metadata": {
    "collapsed": true
   },
   "outputs": [],
   "source": [
    "from sklearn.neighbors import NearestNeighbors\n",
    "new_data = list_content_test\n",
    "# new_data"
   ]
  },
  {
   "cell_type": "code",
   "execution_count": null,
   "metadata": {
    "collapsed": true
   },
   "outputs": [],
   "source": [
    "def get_recommendations(first_article, model, vectorizer, training_vectors):\n",
    "    new_vec = model.transform(\n",
    "        vectorizer.transform([first_article]))\n",
    "    nn = NearestNeighbors(n_neighbors=5, metric='cosine', algorithm='brute')\n",
    "    nn.fit(training_vectors)\n",
    "    results = nn.kneighbors(new_vec)\n",
    "    return results[1][0]\n",
    "\n",
    "print(get_recommendations(new_data[0], lsa_cv, count_vectorizer, lsa_cv_data))"
   ]
  },
  {
   "cell_type": "code",
   "execution_count": null,
   "metadata": {
    "collapsed": true
   },
   "outputs": [],
   "source": [
    "def print_recommendations(first_article,recommend_list):\n",
    "    print(first_article)\n",
    "    print('\\n------\\n')\n",
    "    for resp in recommend_list:\n",
    "        print('\\n --- Result --- \\n')\n",
    "        print(ng_train[resp])\n",
    "\n",
    "test_id = 1\n",
    "rec_list = get_recommendations(new_data[test_id], lsa_cv, count_vectorizer, lsa_cv_data)\n",
    "\n",
    "# print_recommendations(new_data[0],rec_list)\n",
    "\n",
    "print('How many hotels will be recommended? --', len(rec_list))\n",
    "print('How many hotels in the test/recommend database? --', len(list_hotel_test), '\\n')\n",
    "\n",
    "print('Tested hotel: \\n')\n",
    "print('Hotel name --', list_hotel_test[test_id], ' | ', list_address_test[test_id])\n",
    "print('Review content --', new_data[test_id], '\\n')\n",
    "\n",
    "print('Recommended hotels: \\n')\n",
    "n = 0\n",
    "for i in rec_list:\n",
    "    # print(i)\n",
    "    # print(n)\n",
    "    n = n + 1\n",
    "    print(n, ' Hotel name--', list_hotel_train[i], ' | ', list_address_train[i])\n",
    "    print('    Review content --', list_content_train[i], '\\n')"
   ]
  },
  {
   "cell_type": "markdown",
   "metadata": {},
   "source": [
    "In this example, the recommender would focus on the key word of 'relaxing' and successfully find hotels with similar comments. In this case, 'relaxing' can be regarded as a topic during modeling."
   ]
  }
 ],
 "metadata": {
  "kernelspec": {
   "display_name": "Python 3",
   "language": "python",
   "name": "python3"
  },
  "language_info": {
   "codemirror_mode": {
    "name": "ipython",
    "version": 3
   },
   "file_extension": ".py",
   "mimetype": "text/x-python",
   "name": "python",
   "nbconvert_exporter": "python",
   "pygments_lexer": "ipython3",
   "version": "3.6.2"
  }
 },
 "nbformat": 4,
 "nbformat_minor": 2
}
