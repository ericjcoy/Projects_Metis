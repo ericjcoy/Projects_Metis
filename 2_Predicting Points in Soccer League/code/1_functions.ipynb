{
 "cells": [
  {
   "cell_type": "markdown",
   "metadata": {},
   "source": [
    "# Project 2\n",
    "Following is the code for my second data science project at Metis/Chicago. \n",
    "\n",
    "**Title**: Predicting Points in Soccer League\n",
    "\n",
    "**Blog**: click [here](https://tangming2008.github.io/project/)\n",
    "\n",
    "This project mainly consists of two parts:\n",
    "* Scape the information from the web\n",
    "* Apply linear regression model to correlate features with target"
   ]
  },
  {
   "cell_type": "markdown",
   "metadata": {},
   "source": [
    "## Import packages"
   ]
  },
  {
   "cell_type": "code",
   "execution_count": 1,
   "metadata": {
    "collapsed": true
   },
   "outputs": [],
   "source": [
    "from __future__ import print_function, division\n",
    "\n",
    "import pandas as pd\n",
    "import numpy as np\n",
    "import seaborn as sns\n",
    "\n",
    "import requests\n",
    "import pickle\n",
    "import requests\n",
    "\n",
    "import os\n",
    "from bs4 import BeautifulSoup\n",
    "from selenium import webdriver\n",
    "from selenium.webdriver.common.keys import Keys\n",
    "\n",
    "%matplotlib inline\n",
    "import matplotlib.pyplot as plt\n",
    "from IPython.display import Image"
   ]
  },
  {
   "cell_type": "markdown",
   "metadata": {},
   "source": [
    "## Scrape the data from internet\n",
    "Scrape the data from the fox website\n",
    "\n",
    "Two datasets were used:  \n",
    "1. [Standings](http://www.foxsports.com/soccer/standings?competition=2&season=2013): total scores\n",
    "2. [Team stats](http://www.foxsports.com/soccer/team-stats?competition=2&season=20130&category=STANDARD): detailed infor"
   ]
  },
  {
   "cell_type": "markdown",
   "metadata": {},
   "source": [
    "Write a function which can scrape the data from the table available on the fox website."
   ]
  },
  {
   "cell_type": "code",
   "execution_count": 2,
   "metadata": {
    "collapsed": true
   },
   "outputs": [],
   "source": [
    "def year_to_season (year_start):\n",
    "    '''\n",
    "    input: start year of the season\n",
    "    output: the season string\n",
    "    '''\n",
    "    season = f'{year_start}-{year_start + 1}'\n",
    "    return season\n",
    "\n",
    "def year_to_url_standings (year_start):\n",
    "    '''\n",
    "    get data of \"standings\" with respect to the year\n",
    "    '''\n",
    "    url = f'http://www.foxsports.com/soccer/standings?competition=2&season={year_start}'\n",
    "    return url\n",
    "\n",
    "def year_to_url_stats (year_start):\n",
    "    '''\n",
    "    get data of \"stats\" with respect to the year    \n",
    "    '''\n",
    "    url = f'http://www.foxsports.com/soccer/team-stats?competition=2&season={year_start}0&category=standard&sort=1'\n",
    "    return url\n",
    "\n",
    "def df_standings_change_title (df, year_start):\n",
    "    '''\n",
    "    for 'standings' data, change title of features\n",
    "    '''\n",
    "    df['Season'] = year_to_season (year_start)\n",
    "    df.columns = ['Team', 'Played', 'Points', 'Win', 'Draw', 'Lose', 'Goals_Scored', 'Goals_Kicked', 'Goals_diff', 'Home', 'Away', 'Season']\n",
    "    cols = ['Season', 'Team', 'Played', 'Points', 'Win', 'Draw', 'Lose', 'Goals_Scored', 'Goals_Kicked', 'Goals_diff', 'Home', 'Away']\n",
    "    df = df.loc[:,cols]\n",
    "    return df\n",
    "\n",
    "def df_stats_change_title (df):\n",
    "    '''\n",
    "    for 'stats' data, change title of features\n",
    "    '''\n",
    "    df.columns = ['Team','Played', 'Goals', 'Assist', 'Shots_On_Goal', 'Shots', 'Goals_Header', 'Goals_Kicked', 'Cards_Yellow', 'Cards_Red', 'Fouls', 'Offsides']\n",
    "    cols = ['Team','Played', 'Goals', 'Assist', 'Shots_On_Goal', 'Shots', 'Goals_Header', 'Goals_Kicked', 'Cards_Yellow', 'Cards_Red', 'Fouls', 'Offsides']\n",
    "    df = df.loc[:,cols]\n",
    "    return df"
   ]
  },
  {
   "cell_type": "code",
   "execution_count": 3,
   "metadata": {},
   "outputs": [
    {
     "name": "stderr",
     "output_type": "stream",
     "text": [
      "/Users/MingTang/anaconda/lib/python3.6/site-packages/fuzzywuzzy/fuzz.py:35: UserWarning: Using slow pure-python SequenceMatcher. Install python-Levenshtein to remove this warning\n",
      "  warnings.warn('Using slow pure-python SequenceMatcher. Install python-Levenshtein to remove this warning')\n"
     ]
    }
   ],
   "source": [
    "from fuzzywuzzy import process\n",
    "from fuzzywuzzy import fuzz\n",
    "\n",
    "def correct_teamname(teamname):\n",
    "    '''\n",
    "    correct and standardize the teamname\n",
    "    '''    \n",
    "    correct_teamnames = ['Alaves', 'Athletic Bilbao', 'Atletico Madrid', 'Barcelona', 'Betis', 'Celta Vigo', 'Deportivo La Coruna', \n",
    "     'Eibar', 'Espanyol', 'Granada', 'Las Palmas', 'Leganes', 'Malaga', 'Osasuna', 'Real Madrid', \n",
    "     'Real Sociedad', 'Sevilla', 'Sporting Gijon', 'Valencia', 'Villarreal']\n",
    "    \n",
    "    new_name, score = process.extractOne(teamname, correct_teamnames)\n",
    "    if score < 30:\n",
    "        return teamname, score\n",
    "    else:\n",
    "        return new_name, score"
   ]
  },
  {
   "cell_type": "code",
   "execution_count": 4,
   "metadata": {
    "collapsed": true
   },
   "outputs": [],
   "source": [
    "def table_list_standings(year_start):\n",
    "    '''\n",
    "    input: 'stats' data from website\n",
    "    output: raw dataframe\n",
    "    ''' \n",
    "    season = year_to_season(year_start)\n",
    "    url = year_to_url_standings(year_start) \n",
    "\n",
    "    # scrap the data from the foxsports website\n",
    "    r = requests.get(url)\n",
    "    soup = BeautifulSoup(r.text, 'lxml')  \n",
    "\n",
    "    # locate the table which contains the information I need    \n",
    "    contents = soup.find(class_='wisbb_expandableTable wisbb_teamFixed wisbb_standingsTable')\n",
    "    \n",
    "    my_list = []\n",
    "    \n",
    "    for table in contents.find_all('td'):\n",
    "        title = table.text\n",
    "        title = title.strip()\n",
    "        title = title.strip('\\n')\n",
    "        title = title.replace('\\n','')\n",
    "        # title = re.split('(\\d+)',title)\n",
    "        title = title.replace(',', '')\n",
    "        # print(title)\n",
    "        my_list.append(title)\n",
    "        # print(my_list)\n",
    "    \n",
    "    df = pd.DataFrame(np.array(my_list).reshape(20,11))\n",
    "    \n",
    "    df_standings_change_title(df, year_start)\n",
    "    \n",
    "    df['Team'], df['Name_score'] = zip(*df['Team'].apply(correct_teamname))\n",
    "    \n",
    "    return df"
   ]
  },
  {
   "cell_type": "code",
   "execution_count": 5,
   "metadata": {},
   "outputs": [
    {
     "data": {
      "text/html": [
       "<div>\n",
       "<style>\n",
       "    .dataframe thead tr:only-child th {\n",
       "        text-align: right;\n",
       "    }\n",
       "\n",
       "    .dataframe thead th {\n",
       "        text-align: left;\n",
       "    }\n",
       "\n",
       "    .dataframe tbody tr th {\n",
       "        vertical-align: top;\n",
       "    }\n",
       "</style>\n",
       "<table border=\"1\" class=\"dataframe\">\n",
       "  <thead>\n",
       "    <tr style=\"text-align: right;\">\n",
       "      <th></th>\n",
       "      <th>Team</th>\n",
       "      <th>Played</th>\n",
       "      <th>Points</th>\n",
       "      <th>Win</th>\n",
       "      <th>Draw</th>\n",
       "      <th>Lose</th>\n",
       "      <th>Goals_Scored</th>\n",
       "      <th>Goals_Kicked</th>\n",
       "      <th>Goals_diff</th>\n",
       "      <th>Home</th>\n",
       "      <th>Away</th>\n",
       "      <th>Season</th>\n",
       "      <th>Name_score</th>\n",
       "    </tr>\n",
       "  </thead>\n",
       "  <tbody>\n",
       "    <tr>\n",
       "      <th>0</th>\n",
       "      <td>Atletico Madrid</td>\n",
       "      <td>38</td>\n",
       "      <td>90</td>\n",
       "      <td>28</td>\n",
       "      <td>6</td>\n",
       "      <td>4</td>\n",
       "      <td>77</td>\n",
       "      <td>26</td>\n",
       "      <td>51</td>\n",
       "      <td>15-4-0</td>\n",
       "      <td>13-2-4</td>\n",
       "      <td>2013-2014</td>\n",
       "      <td>85</td>\n",
       "    </tr>\n",
       "    <tr>\n",
       "      <th>1</th>\n",
       "      <td>Barcelona</td>\n",
       "      <td>38</td>\n",
       "      <td>87</td>\n",
       "      <td>27</td>\n",
       "      <td>6</td>\n",
       "      <td>5</td>\n",
       "      <td>100</td>\n",
       "      <td>33</td>\n",
       "      <td>67</td>\n",
       "      <td>16-2-1</td>\n",
       "      <td>11-4-4</td>\n",
       "      <td>2013-2014</td>\n",
       "      <td>82</td>\n",
       "    </tr>\n",
       "    <tr>\n",
       "      <th>2</th>\n",
       "      <td>Real Madrid</td>\n",
       "      <td>38</td>\n",
       "      <td>87</td>\n",
       "      <td>27</td>\n",
       "      <td>6</td>\n",
       "      <td>5</td>\n",
       "      <td>104</td>\n",
       "      <td>38</td>\n",
       "      <td>66</td>\n",
       "      <td>16-1-2</td>\n",
       "      <td>11-5-3</td>\n",
       "      <td>2013-2014</td>\n",
       "      <td>85</td>\n",
       "    </tr>\n",
       "    <tr>\n",
       "      <th>3</th>\n",
       "      <td>Athletic Bilbao</td>\n",
       "      <td>38</td>\n",
       "      <td>70</td>\n",
       "      <td>20</td>\n",
       "      <td>10</td>\n",
       "      <td>8</td>\n",
       "      <td>66</td>\n",
       "      <td>39</td>\n",
       "      <td>27</td>\n",
       "      <td>13-4-2</td>\n",
       "      <td>7-6-6</td>\n",
       "      <td>2013-2014</td>\n",
       "      <td>67</td>\n",
       "    </tr>\n",
       "    <tr>\n",
       "      <th>4</th>\n",
       "      <td>Sevilla</td>\n",
       "      <td>38</td>\n",
       "      <td>63</td>\n",
       "      <td>18</td>\n",
       "      <td>9</td>\n",
       "      <td>11</td>\n",
       "      <td>69</td>\n",
       "      <td>52</td>\n",
       "      <td>17</td>\n",
       "      <td>11-4-4</td>\n",
       "      <td>7-5-7</td>\n",
       "      <td>2013-2014</td>\n",
       "      <td>90</td>\n",
       "    </tr>\n",
       "  </tbody>\n",
       "</table>\n",
       "</div>"
      ],
      "text/plain": [
       "              Team Played Points Win Draw Lose Goals_Scored Goals_Kicked  \\\n",
       "0  Atletico Madrid     38     90  28    6    4           77           26   \n",
       "1        Barcelona     38     87  27    6    5          100           33   \n",
       "2      Real Madrid     38     87  27    6    5          104           38   \n",
       "3  Athletic Bilbao     38     70  20   10    8           66           39   \n",
       "4          Sevilla     38     63  18    9   11           69           52   \n",
       "\n",
       "  Goals_diff    Home    Away     Season  Name_score  \n",
       "0         51  15-4-0  13-2-4  2013-2014          85  \n",
       "1         67  16-2-1  11-4-4  2013-2014          82  \n",
       "2         66  16-1-2  11-5-3  2013-2014          85  \n",
       "3         27  13-4-2   7-6-6  2013-2014          67  \n",
       "4         17  11-4-4   7-5-7  2013-2014          90  "
      ]
     },
     "execution_count": 5,
     "metadata": {},
     "output_type": "execute_result"
    }
   ],
   "source": [
    "df_2013_standings = table_list_standings(2013)\n",
    "df_2013_standings.head()"
   ]
  },
  {
   "cell_type": "code",
   "execution_count": 6,
   "metadata": {
    "collapsed": true
   },
   "outputs": [],
   "source": [
    "def table_list_stats(year_start):\n",
    "    '''\n",
    "    input: 'stats' data from website\n",
    "    output: raw dataframe\n",
    "    ''' \n",
    "    season = year_to_season(year_start)\n",
    "    url = year_to_url_stats(year_start) \n",
    "\n",
    "    # scrap the data from the foxsports website\n",
    "    r = requests.get(url)\n",
    "    soup = BeautifulSoup(r.text, 'lxml')  \n",
    "\n",
    "    # locate the table which contains the information I need    \n",
    "    contents = soup.find(class_='wisbb_expandableTable wisbb_teamFixed wisbb_statsTable')\n",
    "    \n",
    "    my_list = []\n",
    "    \n",
    "    for table in contents.find_all('td'):\n",
    "        title = table.text\n",
    "        title = title.strip()\n",
    "        title = title.strip('\\n')\n",
    "        title = title.replace('\\n','')\n",
    "        # title = re.split('(\\d+)',title)\n",
    "        title = title.replace(',', '')\n",
    "        # print(title)\n",
    "        my_list.append(title)\n",
    "        # print(my_list)\n",
    "    \n",
    "    df = pd.DataFrame(np.array(my_list).reshape(20,12))\n",
    "    \n",
    "    df_stats_change_title(df)\n",
    "    \n",
    "    # df['Team'], df['Name_score'] = zip(*df['Team'].apply(correct_team))\n",
    "    \n",
    "    return df"
   ]
  },
  {
   "cell_type": "code",
   "execution_count": 7,
   "metadata": {},
   "outputs": [
    {
     "data": {
      "text/html": [
       "<div>\n",
       "<style>\n",
       "    .dataframe thead tr:only-child th {\n",
       "        text-align: right;\n",
       "    }\n",
       "\n",
       "    .dataframe thead th {\n",
       "        text-align: left;\n",
       "    }\n",
       "\n",
       "    .dataframe tbody tr th {\n",
       "        vertical-align: top;\n",
       "    }\n",
       "</style>\n",
       "<table border=\"1\" class=\"dataframe\">\n",
       "  <thead>\n",
       "    <tr style=\"text-align: right;\">\n",
       "      <th></th>\n",
       "      <th>Team</th>\n",
       "      <th>Played</th>\n",
       "      <th>Goals</th>\n",
       "      <th>Assist</th>\n",
       "      <th>Shots_On_Goal</th>\n",
       "      <th>Shots</th>\n",
       "      <th>Goals_Header</th>\n",
       "      <th>Goals_Kicked</th>\n",
       "      <th>Cards_Yellow</th>\n",
       "      <th>Cards_Red</th>\n",
       "      <th>Fouls</th>\n",
       "      <th>Offsides</th>\n",
       "      <th>Name_score</th>\n",
       "    </tr>\n",
       "  </thead>\n",
       "  <tbody>\n",
       "    <tr>\n",
       "      <th>0</th>\n",
       "      <td>Real Madrid</td>\n",
       "      <td>38</td>\n",
       "      <td>104</td>\n",
       "      <td>79</td>\n",
       "      <td>315</td>\n",
       "      <td>740</td>\n",
       "      <td>14</td>\n",
       "      <td>89</td>\n",
       "      <td>75</td>\n",
       "      <td>2</td>\n",
       "      <td>451</td>\n",
       "      <td>145</td>\n",
       "      <td>90</td>\n",
       "    </tr>\n",
       "    <tr>\n",
       "      <th>1</th>\n",
       "      <td>Barcelona</td>\n",
       "      <td>38</td>\n",
       "      <td>100</td>\n",
       "      <td>72</td>\n",
       "      <td>290</td>\n",
       "      <td>641</td>\n",
       "      <td>5</td>\n",
       "      <td>91</td>\n",
       "      <td>73</td>\n",
       "      <td>1</td>\n",
       "      <td>425</td>\n",
       "      <td>110</td>\n",
       "      <td>90</td>\n",
       "    </tr>\n",
       "    <tr>\n",
       "      <th>2</th>\n",
       "      <td>Atletico Madrid</td>\n",
       "      <td>38</td>\n",
       "      <td>77</td>\n",
       "      <td>56</td>\n",
       "      <td>212</td>\n",
       "      <td>486</td>\n",
       "      <td>18</td>\n",
       "      <td>56</td>\n",
       "      <td>97</td>\n",
       "      <td>2</td>\n",
       "      <td>523</td>\n",
       "      <td>130</td>\n",
       "      <td>86</td>\n",
       "    </tr>\n",
       "    <tr>\n",
       "      <th>3</th>\n",
       "      <td>Sevilla</td>\n",
       "      <td>38</td>\n",
       "      <td>69</td>\n",
       "      <td>48</td>\n",
       "      <td>180</td>\n",
       "      <td>500</td>\n",
       "      <td>10</td>\n",
       "      <td>58</td>\n",
       "      <td>120</td>\n",
       "      <td>8</td>\n",
       "      <td>569</td>\n",
       "      <td>121</td>\n",
       "      <td>90</td>\n",
       "    </tr>\n",
       "    <tr>\n",
       "      <th>4</th>\n",
       "      <td>Athletic Bilbao</td>\n",
       "      <td>38</td>\n",
       "      <td>66</td>\n",
       "      <td>46</td>\n",
       "      <td>203</td>\n",
       "      <td>503</td>\n",
       "      <td>18</td>\n",
       "      <td>46</td>\n",
       "      <td>81</td>\n",
       "      <td>3</td>\n",
       "      <td>484</td>\n",
       "      <td>80</td>\n",
       "      <td>56</td>\n",
       "    </tr>\n",
       "  </tbody>\n",
       "</table>\n",
       "</div>"
      ],
      "text/plain": [
       "              Team Played Goals Assist Shots_On_Goal Shots Goals_Header  \\\n",
       "0      Real Madrid     38   104     79           315   740           14   \n",
       "1        Barcelona     38   100     72           290   641            5   \n",
       "2  Atletico Madrid     38    77     56           212   486           18   \n",
       "3          Sevilla     38    69     48           180   500           10   \n",
       "4  Athletic Bilbao     38    66     46           203   503           18   \n",
       "\n",
       "  Goals_Kicked Cards_Yellow Cards_Red Fouls Offsides  Name_score  \n",
       "0           89           75         2   451      145          90  \n",
       "1           91           73         1   425      110          90  \n",
       "2           56           97         2   523      130          86  \n",
       "3           58          120         8   569      121          90  \n",
       "4           46           81         3   484       80          56  "
      ]
     },
     "execution_count": 7,
     "metadata": {},
     "output_type": "execute_result"
    }
   ],
   "source": [
    "df_2013_stats = table_list_stats(2013).head(5)\n",
    "df_2013_stats['Team'], df_2013_stats['Name_score'] = zip(*df_2013_stats['Team'].apply(correct_teamname))\n",
    "df_2013_stats.head()"
   ]
  },
  {
   "cell_type": "markdown",
   "metadata": {
    "collapsed": true
   },
   "source": [
    "# Explore the data"
   ]
  },
  {
   "cell_type": "markdown",
   "metadata": {},
   "source": [
    "Two example data frames above are representative results scraped from the internet. For simplicity, I combined all results for the past 4 years into a csv file, which is later used for linear regression analysis. The raw data is available from my Github account ([link here](https://raw.githubusercontent.com/tangming2008/Projects/master/02_Soccer/data/laliga3.csv))"
   ]
  },
  {
   "cell_type": "code",
   "execution_count": 8,
   "metadata": {},
   "outputs": [
    {
     "data": {
      "text/html": [
       "<div>\n",
       "<style>\n",
       "    .dataframe thead tr:only-child th {\n",
       "        text-align: right;\n",
       "    }\n",
       "\n",
       "    .dataframe thead th {\n",
       "        text-align: left;\n",
       "    }\n",
       "\n",
       "    .dataframe tbody tr th {\n",
       "        vertical-align: top;\n",
       "    }\n",
       "</style>\n",
       "<table border=\"1\" class=\"dataframe\">\n",
       "  <thead>\n",
       "    <tr style=\"text-align: right;\">\n",
       "      <th></th>\n",
       "      <th>Season</th>\n",
       "      <th>Rank</th>\n",
       "      <th>Team</th>\n",
       "      <th>Points</th>\n",
       "      <th>Goal_for</th>\n",
       "      <th>Goal_against</th>\n",
       "      <th>Goal_diff</th>\n",
       "      <th>Goals</th>\n",
       "      <th>Assist</th>\n",
       "      <th>Shots_On_Goal</th>\n",
       "      <th>...</th>\n",
       "      <th>Cards_Red</th>\n",
       "      <th>Fouls</th>\n",
       "      <th>Offsides</th>\n",
       "      <th>Played</th>\n",
       "      <th>Played</th>\n",
       "      <th>Win</th>\n",
       "      <th>Draw</th>\n",
       "      <th>Loss</th>\n",
       "      <th>Played</th>\n",
       "      <th>Played</th>\n",
       "    </tr>\n",
       "  </thead>\n",
       "  <tbody>\n",
       "    <tr>\n",
       "      <th>3</th>\n",
       "      <td>2014-2015</td>\n",
       "      <td>1</td>\n",
       "      <td>Barcelona</td>\n",
       "      <td>94</td>\n",
       "      <td>110</td>\n",
       "      <td>21</td>\n",
       "      <td>89</td>\n",
       "      <td>110</td>\n",
       "      <td>80</td>\n",
       "      <td>291</td>\n",
       "      <td>...</td>\n",
       "      <td>3</td>\n",
       "      <td>369</td>\n",
       "      <td>120</td>\n",
       "      <td>38</td>\n",
       "      <td>38</td>\n",
       "      <td>30</td>\n",
       "      <td>4</td>\n",
       "      <td>4</td>\n",
       "      <td>38</td>\n",
       "      <td>38</td>\n",
       "    </tr>\n",
       "    <tr>\n",
       "      <th>74</th>\n",
       "      <td>2016-2017</td>\n",
       "      <td>1</td>\n",
       "      <td>Real Madrid</td>\n",
       "      <td>93</td>\n",
       "      <td>106</td>\n",
       "      <td>41</td>\n",
       "      <td>65</td>\n",
       "      <td>106</td>\n",
       "      <td>81</td>\n",
       "      <td>282</td>\n",
       "      <td>...</td>\n",
       "      <td>2</td>\n",
       "      <td>422</td>\n",
       "      <td>136</td>\n",
       "      <td>38</td>\n",
       "      <td>38</td>\n",
       "      <td>29</td>\n",
       "      <td>6</td>\n",
       "      <td>3</td>\n",
       "      <td>38</td>\n",
       "      <td>38</td>\n",
       "    </tr>\n",
       "    <tr>\n",
       "      <th>22</th>\n",
       "      <td>2013-2014</td>\n",
       "      <td>1</td>\n",
       "      <td>Atletico Madrid</td>\n",
       "      <td>90</td>\n",
       "      <td>77</td>\n",
       "      <td>26</td>\n",
       "      <td>51</td>\n",
       "      <td>77</td>\n",
       "      <td>56</td>\n",
       "      <td>212</td>\n",
       "      <td>...</td>\n",
       "      <td>2</td>\n",
       "      <td>523</td>\n",
       "      <td>130</td>\n",
       "      <td>38</td>\n",
       "      <td>38</td>\n",
       "      <td>28</td>\n",
       "      <td>6</td>\n",
       "      <td>4</td>\n",
       "      <td>38</td>\n",
       "      <td>38</td>\n",
       "    </tr>\n",
       "    <tr>\n",
       "      <th>42</th>\n",
       "      <td>2015-2016</td>\n",
       "      <td>1</td>\n",
       "      <td>Barcelona</td>\n",
       "      <td>91</td>\n",
       "      <td>112</td>\n",
       "      <td>29</td>\n",
       "      <td>83</td>\n",
       "      <td>112</td>\n",
       "      <td>79</td>\n",
       "      <td>277</td>\n",
       "      <td>...</td>\n",
       "      <td>1</td>\n",
       "      <td>385</td>\n",
       "      <td>120</td>\n",
       "      <td>38</td>\n",
       "      <td>38</td>\n",
       "      <td>29</td>\n",
       "      <td>4</td>\n",
       "      <td>5</td>\n",
       "      <td>38</td>\n",
       "      <td>38</td>\n",
       "    </tr>\n",
       "    <tr>\n",
       "      <th>23</th>\n",
       "      <td>2013-2014</td>\n",
       "      <td>2</td>\n",
       "      <td>Barcelona</td>\n",
       "      <td>87</td>\n",
       "      <td>100</td>\n",
       "      <td>33</td>\n",
       "      <td>67</td>\n",
       "      <td>100</td>\n",
       "      <td>72</td>\n",
       "      <td>290</td>\n",
       "      <td>...</td>\n",
       "      <td>1</td>\n",
       "      <td>425</td>\n",
       "      <td>110</td>\n",
       "      <td>38</td>\n",
       "      <td>38</td>\n",
       "      <td>27</td>\n",
       "      <td>6</td>\n",
       "      <td>5</td>\n",
       "      <td>38</td>\n",
       "      <td>38</td>\n",
       "    </tr>\n",
       "  </tbody>\n",
       "</table>\n",
       "<p>5 rows × 24 columns</p>\n",
       "</div>"
      ],
      "text/plain": [
       "       Season  Rank             Team  Points  Goal_for  Goal_against  \\\n",
       "3   2014-2015     1        Barcelona      94       110            21   \n",
       "74  2016-2017     1      Real Madrid      93       106            41   \n",
       "22  2013-2014     1  Atletico Madrid      90        77            26   \n",
       "42  2015-2016     1        Barcelona      91       112            29   \n",
       "23  2013-2014     2        Barcelona      87       100            33   \n",
       "\n",
       "    Goal_diff  Goals  Assist  Shots_On_Goal   ...    Cards_Red  Fouls  \\\n",
       "3          89    110      80            291   ...            3    369   \n",
       "74         65    106      81            282   ...            2    422   \n",
       "22         51     77      56            212   ...            2    523   \n",
       "42         83    112      79            277   ...            1    385   \n",
       "23         67    100      72            290   ...            1    425   \n",
       "\n",
       "    Offsides  Played  Played  Win  Draw  Loss  Played  Played  \n",
       "3        120      38      38   30     4     4      38      38  \n",
       "74       136      38      38   29     6     3      38      38  \n",
       "22       130      38      38   28     6     4      38      38  \n",
       "42       120      38      38   29     4     5      38      38  \n",
       "23       110      38      38   27     6     5      38      38  \n",
       "\n",
       "[5 rows x 24 columns]"
      ]
     },
     "execution_count": 8,
     "metadata": {},
     "output_type": "execute_result"
    }
   ],
   "source": [
    "df_all = pd.read_csv('https://raw.githubusercontent.com/tangming2008/Projects/master/02_Soccer/data/laliga3.csv') \n",
    "# read the csv file, this is the raw data I complied together with results got from the website.\n",
    "\n",
    "df = df_all\n",
    "df.columns = ['Season', 'Rank', 'Team', 'Played', 'Win', 'Draw', 'Loss', 'Goal_for', 'Goal_against', 'Goal_diff', 'Points', 'Played', 'Goals', 'Assist', 'Shots_On_Goal', 'Shots', 'Goals_Header', 'Goals_Kicked', 'Cards_Yellow', 'Cards_Red', 'Fouls', 'Offsides']\n",
    "df['Goal_index'] = df['Goal_for'] / (df['Goal_for'] + df['Goal_against'])\n",
    "df['match_check'] = df['Goal_for'] - df['Goals'] # this is to check the match between two datasets\n",
    "cols = ['Season', 'Rank', 'Team', 'Points', 'Goal_for', 'Goal_against', 'Goal_diff', 'Goals', 'Assist', 'Shots_On_Goal', 'Shots', 'Goals_Header', 'Goals_Kicked', 'Cards_Yellow', 'Cards_Red', 'Fouls', 'Offsides', 'Played', 'Win', 'Draw', 'Loss', 'Played']\n",
    "df = df.loc[:,cols]\n",
    "\n",
    "df.sort_values(by='Rank',ascending=True).head()"
   ]
  },
  {
   "cell_type": "markdown",
   "metadata": {},
   "source": [
    "### Split train/test\n",
    "* Training data: results from 2014 - 2017, named \"df\", 60 rows\n",
    "* Test data: results from 2013-2014, names \"\"df_test\", 20 rows"
   ]
  },
  {
   "cell_type": "code",
   "execution_count": 9,
   "metadata": {
    "collapsed": true
   },
   "outputs": [],
   "source": [
    "df_test = df[df['Season'] == '2013-2014']\n",
    "# df_test.describe()"
   ]
  },
  {
   "cell_type": "code",
   "execution_count": 10,
   "metadata": {
    "collapsed": true
   },
   "outputs": [],
   "source": [
    "df = df[df['Season'] != '2013-2014']\n",
    "# df.describe()"
   ]
  },
  {
   "cell_type": "markdown",
   "metadata": {},
   "source": [
    "### Check the linear correlation between the goals scored & goals lost and the final points"
   ]
  },
  {
   "cell_type": "code",
   "execution_count": 11,
   "metadata": {
    "collapsed": true
   },
   "outputs": [],
   "source": [
    "def plot_linear(df, x, y):\n",
    "    '''\n",
    "    plot the linear correlation\n",
    "    '''\n",
    "    ax = sns.regplot(df[x], df[y])\n",
    "    plt.xlabel(x, rotation=0, fontsize=label_font_size, weight='bold')\n",
    "    plt.ylabel(y, rotation=90, fontsize=label_font_size, weight='bold')\n",
    "    plt.xticks(rotation=axis_rotation, fontsize=axis_font_size)\n",
    "    plt.yticks(rotation=axis_rotation, fontsize=axis_font_size)\n",
    "    ax.grid(False)\n",
    "    \n",
    "def plot_scatter(df, x, y):\n",
    "    '''\n",
    "    make a scatter plot\n",
    "    '''\n",
    "    plt.scatter(df[x], df[y]) \n",
    "    plt.xlabel(x, rotation=0, fontsize=label_font_size, weight='bold')\n",
    "    plt.ylabel(y, rotation=90, fontsize=label_font_size, weight='bold')\n",
    "    plt.xticks(rotation=axis_rotation, fontsize=axis_font_size)\n",
    "    plt.yticks(rotation=axis_rotation, fontsize=axis_font_size)"
   ]
  },
  {
   "cell_type": "code",
   "execution_count": 12,
   "metadata": {},
   "outputs": [
    {
     "data": {
      "image/png": "[encoded data removed]",
      "text/plain": [
       "<matplotlib.figure.Figure at 0x110c543c8>"
      ]
     },
     "metadata": {},
     "output_type": "display_data"
    }
   ],
   "source": [
    "plt.figure(figsize=(10,8))\n",
    "\n",
    "axis_rotation = 0\n",
    "axis_font_size = 15\n",
    "label_rotation = 0\n",
    "label_font_size = 20\n",
    "\n",
    "plt.subplot(221);\n",
    "plot_linear(df, 'Goal_for', 'Points')\n",
    "\n",
    "plt.subplot(222)\n",
    "plot_linear(df, 'Goal_against', 'Points')\n",
    "\n",
    "plt.tight_layout()\n",
    "# tight_layout automatically adjusts subplot params so that the subplot(s) fits in to the figure area. "
   ]
  },
  {
   "cell_type": "markdown",
   "metadata": {},
   "source": [
    "### Correlation between a single feature (*goals scored*) and the target (*final points*)"
   ]
  },
  {
   "cell_type": "code",
   "execution_count": 13,
   "metadata": {},
   "outputs": [
    {
     "data": {
      "text/plain": [
       "<matplotlib.text.Text at 0x1116f0588>"
      ]
     },
     "execution_count": 13,
     "metadata": {},
     "output_type": "execute_result"
    },
    {
     "data": {
      "image/png": "[encoded data removed]",
      "text/plain": [
       "<matplotlib.figure.Figure at 0x1117c3f28>"
      ]
     },
     "metadata": {},
     "output_type": "display_data"
    }
   ],
   "source": [
    "fig, ax = plt.subplots()\n",
    "fig.set_size_inches(4,4)\n",
    "\n",
    "ax = sns.regplot(df['Goal_for'], df['Points'])\n",
    "ax.grid(False)\n",
    "\n",
    "ax.set_xlim([20, 120])\n",
    "plt.xticks([20, 40, 60, 80, 100, 120])\n",
    "plt.xticks(rotation=0, fontsize=15)\n",
    "\n",
    "ax.set_ylim([20, 100])\n",
    "plt.yticks([20, 40, 60, 80, 100])\n",
    "plt.yticks(rotation=0, fontsize=15)\n",
    "\n",
    "plt.xlabel('Goals scored', rotation=0, fontsize=label_font_size, weight='bold')\n",
    "plt.ylabel('Points', rotation=90, fontsize=label_font_size, weight='bold')"
   ]
  },
  {
   "cell_type": "markdown",
   "metadata": {
    "collapsed": true
   },
   "source": [
    "# Linear Regression\n",
    "Steps:\n",
    "1. Make pairplot & map to visulize the dependence between features and targets\n",
    "2. Performed linear fitting with statsmodels"
   ]
  },
  {
   "cell_type": "code",
   "execution_count": 14,
   "metadata": {},
   "outputs": [
    {
     "data": {
      "text/html": [
       "<div>\n",
       "<style>\n",
       "    .dataframe thead tr:only-child th {\n",
       "        text-align: right;\n",
       "    }\n",
       "\n",
       "    .dataframe thead th {\n",
       "        text-align: left;\n",
       "    }\n",
       "\n",
       "    .dataframe tbody tr th {\n",
       "        vertical-align: top;\n",
       "    }\n",
       "</style>\n",
       "<table border=\"1\" class=\"dataframe\">\n",
       "  <thead>\n",
       "    <tr style=\"text-align: right;\">\n",
       "      <th></th>\n",
       "      <th>Points</th>\n",
       "      <th>Goal_for</th>\n",
       "      <th>Goal_against</th>\n",
       "      <th>Goal_diff</th>\n",
       "      <th>Assist</th>\n",
       "      <th>Shots_On_Goal</th>\n",
       "      <th>Shots</th>\n",
       "      <th>Goals_Header</th>\n",
       "      <th>Goals_Kicked</th>\n",
       "      <th>Cards_Yellow</th>\n",
       "      <th>Cards_Red</th>\n",
       "      <th>Fouls</th>\n",
       "      <th>Offsides</th>\n",
       "    </tr>\n",
       "  </thead>\n",
       "  <tbody>\n",
       "    <tr>\n",
       "      <th>0</th>\n",
       "      <td>32</td>\n",
       "      <td>35</td>\n",
       "      <td>64</td>\n",
       "      <td>-29</td>\n",
       "      <td>22</td>\n",
       "      <td>131</td>\n",
       "      <td>398</td>\n",
       "      <td>6</td>\n",
       "      <td>26</td>\n",
       "      <td>125</td>\n",
       "      <td>11</td>\n",
       "      <td>557</td>\n",
       "      <td>59</td>\n",
       "    </tr>\n",
       "    <tr>\n",
       "      <th>1</th>\n",
       "      <td>55</td>\n",
       "      <td>42</td>\n",
       "      <td>41</td>\n",
       "      <td>1</td>\n",
       "      <td>26</td>\n",
       "      <td>153</td>\n",
       "      <td>441</td>\n",
       "      <td>11</td>\n",
       "      <td>30</td>\n",
       "      <td>100</td>\n",
       "      <td>4</td>\n",
       "      <td>526</td>\n",
       "      <td>92</td>\n",
       "    </tr>\n",
       "    <tr>\n",
       "      <th>2</th>\n",
       "      <td>78</td>\n",
       "      <td>67</td>\n",
       "      <td>29</td>\n",
       "      <td>38</td>\n",
       "      <td>48</td>\n",
       "      <td>197</td>\n",
       "      <td>443</td>\n",
       "      <td>25</td>\n",
       "      <td>39</td>\n",
       "      <td>117</td>\n",
       "      <td>4</td>\n",
       "      <td>543</td>\n",
       "      <td>100</td>\n",
       "    </tr>\n",
       "    <tr>\n",
       "      <th>3</th>\n",
       "      <td>94</td>\n",
       "      <td>110</td>\n",
       "      <td>21</td>\n",
       "      <td>89</td>\n",
       "      <td>80</td>\n",
       "      <td>291</td>\n",
       "      <td>631</td>\n",
       "      <td>16</td>\n",
       "      <td>92</td>\n",
       "      <td>69</td>\n",
       "      <td>3</td>\n",
       "      <td>369</td>\n",
       "      <td>120</td>\n",
       "    </tr>\n",
       "    <tr>\n",
       "      <th>4</th>\n",
       "      <td>51</td>\n",
       "      <td>47</td>\n",
       "      <td>44</td>\n",
       "      <td>3</td>\n",
       "      <td>33</td>\n",
       "      <td>177</td>\n",
       "      <td>501</td>\n",
       "      <td>9</td>\n",
       "      <td>36</td>\n",
       "      <td>119</td>\n",
       "      <td>5</td>\n",
       "      <td>581</td>\n",
       "      <td>111</td>\n",
       "    </tr>\n",
       "  </tbody>\n",
       "</table>\n",
       "</div>"
      ],
      "text/plain": [
       "   Points  Goal_for  Goal_against  Goal_diff  Assist  Shots_On_Goal  Shots  \\\n",
       "0      32        35            64        -29      22            131    398   \n",
       "1      55        42            41          1      26            153    441   \n",
       "2      78        67            29         38      48            197    443   \n",
       "3      94       110            21         89      80            291    631   \n",
       "4      51        47            44          3      33            177    501   \n",
       "\n",
       "   Goals_Header  Goals_Kicked  Cards_Yellow  Cards_Red  Fouls  Offsides  \n",
       "0             6            26           125         11    557        59  \n",
       "1            11            30           100          4    526        92  \n",
       "2            25            39           117          4    543       100  \n",
       "3            16            92            69          3    369       120  \n",
       "4             9            36           119          5    581       111  "
      ]
     },
     "execution_count": 14,
     "metadata": {},
     "output_type": "execute_result"
    }
   ],
   "source": [
    "# remove other unnecessary columns\n",
    "cols_all = ['Points', 'Goal_for', 'Goal_against', 'Goal_diff', 'Assist', 'Shots_On_Goal', 'Shots', 'Goals_Header', 'Goals_Kicked', 'Cards_Yellow', 'Cards_Red', 'Fouls', 'Offsides']\n",
    "df_corr = df.loc[:,cols_all]\n",
    "df_corr.head()"
   ]
  },
  {
   "cell_type": "code",
   "execution_count": 15,
   "metadata": {
    "scrolled": true
   },
   "outputs": [
    {
     "data": {
      "text/html": [
       "<div>\n",
       "<style>\n",
       "    .dataframe thead tr:only-child th {\n",
       "        text-align: right;\n",
       "    }\n",
       "\n",
       "    .dataframe thead th {\n",
       "        text-align: left;\n",
       "    }\n",
       "\n",
       "    .dataframe tbody tr th {\n",
       "        vertical-align: top;\n",
       "    }\n",
       "</style>\n",
       "<table border=\"1\" class=\"dataframe\">\n",
       "  <thead>\n",
       "    <tr style=\"text-align: right;\">\n",
       "      <th></th>\n",
       "      <th>Points</th>\n",
       "      <th>Goal_for</th>\n",
       "      <th>Goal_against</th>\n",
       "      <th>Goal_diff</th>\n",
       "      <th>Assist</th>\n",
       "      <th>Shots_On_Goal</th>\n",
       "      <th>Shots</th>\n",
       "      <th>Goals_Header</th>\n",
       "      <th>Goals_Kicked</th>\n",
       "      <th>Cards_Yellow</th>\n",
       "      <th>Cards_Red</th>\n",
       "      <th>Fouls</th>\n",
       "      <th>Offsides</th>\n",
       "    </tr>\n",
       "  </thead>\n",
       "  <tbody>\n",
       "    <tr>\n",
       "      <th>Goal_against</th>\n",
       "      <td>-0.842390</td>\n",
       "      <td>-0.593030</td>\n",
       "      <td>1.000000</td>\n",
       "      <td>-0.847566</td>\n",
       "      <td>-0.602743</td>\n",
       "      <td>-0.548748</td>\n",
       "      <td>-0.498873</td>\n",
       "      <td>-0.353229</td>\n",
       "      <td>-0.545530</td>\n",
       "      <td>0.526635</td>\n",
       "      <td>0.327417</td>\n",
       "      <td>0.414663</td>\n",
       "      <td>-0.393152</td>\n",
       "    </tr>\n",
       "    <tr>\n",
       "      <th>Cards_Yellow</th>\n",
       "      <td>-0.613230</td>\n",
       "      <td>-0.643178</td>\n",
       "      <td>0.526635</td>\n",
       "      <td>-0.664431</td>\n",
       "      <td>-0.651467</td>\n",
       "      <td>-0.626257</td>\n",
       "      <td>-0.599927</td>\n",
       "      <td>-0.297136</td>\n",
       "      <td>-0.630932</td>\n",
       "      <td>1.000000</td>\n",
       "      <td>0.556187</td>\n",
       "      <td>0.732396</td>\n",
       "      <td>-0.314841</td>\n",
       "    </tr>\n",
       "    <tr>\n",
       "      <th>Fouls</th>\n",
       "      <td>-0.534670</td>\n",
       "      <td>-0.652456</td>\n",
       "      <td>0.414663</td>\n",
       "      <td>-0.619408</td>\n",
       "      <td>-0.672743</td>\n",
       "      <td>-0.678433</td>\n",
       "      <td>-0.658300</td>\n",
       "      <td>-0.308909</td>\n",
       "      <td>-0.651648</td>\n",
       "      <td>0.732396</td>\n",
       "      <td>0.283492</td>\n",
       "      <td>1.000000</td>\n",
       "      <td>-0.304316</td>\n",
       "    </tr>\n",
       "    <tr>\n",
       "      <th>Cards_Red</th>\n",
       "      <td>-0.394784</td>\n",
       "      <td>-0.352766</td>\n",
       "      <td>0.327417</td>\n",
       "      <td>-0.382039</td>\n",
       "      <td>-0.357481</td>\n",
       "      <td>-0.312691</td>\n",
       "      <td>-0.264739</td>\n",
       "      <td>-0.150179</td>\n",
       "      <td>-0.360021</td>\n",
       "      <td>0.556187</td>\n",
       "      <td>1.000000</td>\n",
       "      <td>0.283492</td>\n",
       "      <td>-0.239425</td>\n",
       "    </tr>\n",
       "    <tr>\n",
       "      <th>Goals_Header</th>\n",
       "      <td>0.542403</td>\n",
       "      <td>0.596555</td>\n",
       "      <td>-0.353229</td>\n",
       "      <td>0.554507</td>\n",
       "      <td>0.647479</td>\n",
       "      <td>0.550340</td>\n",
       "      <td>0.556111</td>\n",
       "      <td>1.000000</td>\n",
       "      <td>0.452127</td>\n",
       "      <td>-0.297136</td>\n",
       "      <td>-0.150179</td>\n",
       "      <td>-0.308909</td>\n",
       "      <td>0.336044</td>\n",
       "    </tr>\n",
       "    <tr>\n",
       "      <th>Offsides</th>\n",
       "      <td>0.602229</td>\n",
       "      <td>0.620706</td>\n",
       "      <td>-0.393152</td>\n",
       "      <td>0.588657</td>\n",
       "      <td>0.610310</td>\n",
       "      <td>0.670468</td>\n",
       "      <td>0.645484</td>\n",
       "      <td>0.336044</td>\n",
       "      <td>0.594795</td>\n",
       "      <td>-0.314841</td>\n",
       "      <td>-0.239425</td>\n",
       "      <td>-0.304316</td>\n",
       "      <td>1.000000</td>\n",
       "    </tr>\n",
       "    <tr>\n",
       "      <th>Shots</th>\n",
       "      <td>0.745031</td>\n",
       "      <td>0.877055</td>\n",
       "      <td>-0.498873</td>\n",
       "      <td>0.805899</td>\n",
       "      <td>0.881104</td>\n",
       "      <td>0.943418</td>\n",
       "      <td>1.000000</td>\n",
       "      <td>0.556111</td>\n",
       "      <td>0.846901</td>\n",
       "      <td>-0.599927</td>\n",
       "      <td>-0.264739</td>\n",
       "      <td>-0.658300</td>\n",
       "      <td>0.645484</td>\n",
       "    </tr>\n",
       "    <tr>\n",
       "      <th>Shots_On_Goal</th>\n",
       "      <td>0.824391</td>\n",
       "      <td>0.950725</td>\n",
       "      <td>-0.548748</td>\n",
       "      <td>0.877233</td>\n",
       "      <td>0.939472</td>\n",
       "      <td>1.000000</td>\n",
       "      <td>0.943418</td>\n",
       "      <td>0.550340</td>\n",
       "      <td>0.922160</td>\n",
       "      <td>-0.626257</td>\n",
       "      <td>-0.312691</td>\n",
       "      <td>-0.678433</td>\n",
       "      <td>0.670468</td>\n",
       "    </tr>\n",
       "    <tr>\n",
       "      <th>Goals_Kicked</th>\n",
       "      <td>0.828934</td>\n",
       "      <td>0.966633</td>\n",
       "      <td>-0.545530</td>\n",
       "      <td>0.886248</td>\n",
       "      <td>0.941965</td>\n",
       "      <td>0.922160</td>\n",
       "      <td>0.846901</td>\n",
       "      <td>0.452127</td>\n",
       "      <td>1.000000</td>\n",
       "      <td>-0.630932</td>\n",
       "      <td>-0.360021</td>\n",
       "      <td>-0.651648</td>\n",
       "      <td>0.594795</td>\n",
       "    </tr>\n",
       "    <tr>\n",
       "      <th>Goal_for</th>\n",
       "      <td>0.884015</td>\n",
       "      <td>1.000000</td>\n",
       "      <td>-0.593030</td>\n",
       "      <td>0.929933</td>\n",
       "      <td>0.977698</td>\n",
       "      <td>0.950725</td>\n",
       "      <td>0.877055</td>\n",
       "      <td>0.596555</td>\n",
       "      <td>0.966633</td>\n",
       "      <td>-0.643178</td>\n",
       "      <td>-0.352766</td>\n",
       "      <td>-0.652456</td>\n",
       "      <td>0.620706</td>\n",
       "    </tr>\n",
       "    <tr>\n",
       "      <th>Assist</th>\n",
       "      <td>0.884097</td>\n",
       "      <td>0.977698</td>\n",
       "      <td>-0.602743</td>\n",
       "      <td>0.919670</td>\n",
       "      <td>1.000000</td>\n",
       "      <td>0.939472</td>\n",
       "      <td>0.881104</td>\n",
       "      <td>0.647479</td>\n",
       "      <td>0.941965</td>\n",
       "      <td>-0.651467</td>\n",
       "      <td>-0.357481</td>\n",
       "      <td>-0.672743</td>\n",
       "      <td>0.610310</td>\n",
       "    </tr>\n",
       "    <tr>\n",
       "      <th>Goal_diff</th>\n",
       "      <td>0.967371</td>\n",
       "      <td>0.929933</td>\n",
       "      <td>-0.847566</td>\n",
       "      <td>1.000000</td>\n",
       "      <td>0.919670</td>\n",
       "      <td>0.877233</td>\n",
       "      <td>0.805899</td>\n",
       "      <td>0.554507</td>\n",
       "      <td>0.886248</td>\n",
       "      <td>-0.664431</td>\n",
       "      <td>-0.382039</td>\n",
       "      <td>-0.619408</td>\n",
       "      <td>0.588657</td>\n",
       "    </tr>\n",
       "    <tr>\n",
       "      <th>Points</th>\n",
       "      <td>1.000000</td>\n",
       "      <td>0.884015</td>\n",
       "      <td>-0.842390</td>\n",
       "      <td>0.967371</td>\n",
       "      <td>0.884097</td>\n",
       "      <td>0.824391</td>\n",
       "      <td>0.745031</td>\n",
       "      <td>0.542403</td>\n",
       "      <td>0.828934</td>\n",
       "      <td>-0.613230</td>\n",
       "      <td>-0.394784</td>\n",
       "      <td>-0.534670</td>\n",
       "      <td>0.602229</td>\n",
       "    </tr>\n",
       "  </tbody>\n",
       "</table>\n",
       "</div>"
      ],
      "text/plain": [
       "                 Points  Goal_for  Goal_against  Goal_diff    Assist  \\\n",
       "Goal_against  -0.842390 -0.593030      1.000000  -0.847566 -0.602743   \n",
       "Cards_Yellow  -0.613230 -0.643178      0.526635  -0.664431 -0.651467   \n",
       "Fouls         -0.534670 -0.652456      0.414663  -0.619408 -0.672743   \n",
       "Cards_Red     -0.394784 -0.352766      0.327417  -0.382039 -0.357481   \n",
       "Goals_Header   0.542403  0.596555     -0.353229   0.554507  0.647479   \n",
       "Offsides       0.602229  0.620706     -0.393152   0.588657  0.610310   \n",
       "Shots          0.745031  0.877055     -0.498873   0.805899  0.881104   \n",
       "Shots_On_Goal  0.824391  0.950725     -0.548748   0.877233  0.939472   \n",
       "Goals_Kicked   0.828934  0.966633     -0.545530   0.886248  0.941965   \n",
       "Goal_for       0.884015  1.000000     -0.593030   0.929933  0.977698   \n",
       "Assist         0.884097  0.977698     -0.602743   0.919670  1.000000   \n",
       "Goal_diff      0.967371  0.929933     -0.847566   1.000000  0.919670   \n",
       "Points         1.000000  0.884015     -0.842390   0.967371  0.884097   \n",
       "\n",
       "               Shots_On_Goal     Shots  Goals_Header  Goals_Kicked  \\\n",
       "Goal_against       -0.548748 -0.498873     -0.353229     -0.545530   \n",
       "Cards_Yellow       -0.626257 -0.599927     -0.297136     -0.630932   \n",
       "Fouls              -0.678433 -0.658300     -0.308909     -0.651648   \n",
       "Cards_Red          -0.312691 -0.264739     -0.150179     -0.360021   \n",
       "Goals_Header        0.550340  0.556111      1.000000      0.452127   \n",
       "Offsides            0.670468  0.645484      0.336044      0.594795   \n",
       "Shots               0.943418  1.000000      0.556111      0.846901   \n",
       "Shots_On_Goal       1.000000  0.943418      0.550340      0.922160   \n",
       "Goals_Kicked        0.922160  0.846901      0.452127      1.000000   \n",
       "Goal_for            0.950725  0.877055      0.596555      0.966633   \n",
       "Assist              0.939472  0.881104      0.647479      0.941965   \n",
       "Goal_diff           0.877233  0.805899      0.554507      0.886248   \n",
       "Points              0.824391  0.745031      0.542403      0.828934   \n",
       "\n",
       "               Cards_Yellow  Cards_Red     Fouls  Offsides  \n",
       "Goal_against       0.526635   0.327417  0.414663 -0.393152  \n",
       "Cards_Yellow       1.000000   0.556187  0.732396 -0.314841  \n",
       "Fouls              0.732396   0.283492  1.000000 -0.304316  \n",
       "Cards_Red          0.556187   1.000000  0.283492 -0.239425  \n",
       "Goals_Header      -0.297136  -0.150179 -0.308909  0.336044  \n",
       "Offsides          -0.314841  -0.239425 -0.304316  1.000000  \n",
       "Shots             -0.599927  -0.264739 -0.658300  0.645484  \n",
       "Shots_On_Goal     -0.626257  -0.312691 -0.678433  0.670468  \n",
       "Goals_Kicked      -0.630932  -0.360021 -0.651648  0.594795  \n",
       "Goal_for          -0.643178  -0.352766 -0.652456  0.620706  \n",
       "Assist            -0.651467  -0.357481 -0.672743  0.610310  \n",
       "Goal_diff         -0.664431  -0.382039 -0.619408  0.588657  \n",
       "Points            -0.613230  -0.394784 -0.534670  0.602229  "
      ]
     },
     "execution_count": 15,
     "metadata": {},
     "output_type": "execute_result"
    }
   ],
   "source": [
    "df_corr.corr().sort_values('Points')"
   ]
  },
  {
   "cell_type": "code",
   "execution_count": 16,
   "metadata": {},
   "outputs": [
    {
     "data": {
      "text/plain": [
       "<seaborn.axisgrid.PairGrid at 0x1116da898>"
      ]
     },
     "execution_count": 16,
     "metadata": {},
     "output_type": "execute_result"
    },
    {
     "data": {
      "image/png": "[encoded data removed]",
      "text/plain": [
       "<matplotlib.figure.Figure at 0x1116f7d30>"
      ]
     },
     "metadata": {},
     "output_type": "display_data"
    }
   ],
   "source": [
    "import seaborn as sns\n",
    "cols_pair = ['Points', 'Goal_for', 'Goal_against', 'Assist', 'Cards_Yellow', 'Offsides']\n",
    "df_pair = df.loc[:,cols_pair]\n",
    "\n",
    "sns.pairplot(df_pair)\n",
    "# sns.pairplot(df_corr)"
   ]
  },
  {
   "cell_type": "markdown",
   "metadata": {},
   "source": [
    "#### Note that the coeff of -1 indicates a strong negative correlation. A coeff of 0 (light blue) implies weak dependence."
   ]
  },
  {
   "cell_type": "code",
   "execution_count": 17,
   "metadata": {},
   "outputs": [
    {
     "data": {
      "image/png": "[encoded data removed]",
      "text/plain": [
       "<matplotlib.figure.Figure at 0x1156201d0>"
      ]
     },
     "metadata": {},
     "output_type": "display_data"
    }
   ],
   "source": [
    "smaller_df = df_pair\n",
    "\n",
    "corr = smaller_df.corr()\n",
    "corr.shape\n",
    "\n",
    "plt.figure(figsize=(8,8))\n",
    "ax = plt.gca()\n",
    "plt.imshow(corr, cmap='Blues', interpolation='nearest')\n",
    "cbar = plt.colorbar()\n",
    "plt.grid(False)\n",
    "plt.yticks(np.arange(corr.shape[1]))\n",
    "plt.xticks(np.arange(corr.shape[0])-0.5, rotation=45)\n",
    "ax.set_xticklabels(list(smaller_df.columns), minor=False)\n",
    "ax.set_yticklabels(list(smaller_df.columns), minor=False);"
   ]
  },
  {
   "cell_type": "markdown",
   "metadata": {},
   "source": [
    "### I started the quantitative analysis with the correlation between a single feature of \"\"Goal_for\" and the target of \"Points\". The distribution of residuals seems normal, which supports the linear fitting."
   ]
  },
  {
   "cell_type": "code",
   "execution_count": 18,
   "metadata": {},
   "outputs": [
    {
     "name": "stderr",
     "output_type": "stream",
     "text": [
      "/Users/MingTang/anaconda/lib/python3.6/site-packages/statsmodels/compat/pandas.py:56: FutureWarning: The pandas.core.datetools module is deprecated and will be removed in a future version. Please use the pandas.tseries module instead.\n",
      "  from pandas.core import datetools\n"
     ]
    }
   ],
   "source": [
    "import statsmodels.api as sm\n",
    "import statsmodels.formula.api as smf\n",
    "\n",
    "model1 = smf.ols('Points ~ Goal_for', data=df_corr)\n",
    "fit1 = model1.fit()\n",
    "# fit1.summary()"
   ]
  },
  {
   "cell_type": "code",
   "execution_count": 19,
   "metadata": {},
   "outputs": [
    {
     "name": "stdout",
     "output_type": "stream",
     "text": [
      "Parameters:  Intercept    12.026718\n",
      "Goal_for      0.765351\n",
      "dtype: float64\n",
      "R2:  0.781481760946\n",
      "adjusted_R2:  0.7777142051\n"
     ]
    }
   ],
   "source": [
    "print('Parameters: ', fit1.params)\n",
    "print('R2: ', fit1.rsquared)\n",
    "print('adjusted_R2: ', fit1.rsquared_adj)"
   ]
  },
  {
   "cell_type": "markdown",
   "metadata": {},
   "source": [
    "### Plotting Residuals"
   ]
  },
  {
   "cell_type": "code",
   "execution_count": 20,
   "metadata": {},
   "outputs": [
    {
     "data": {
      "text/plain": [
       "(array([-30, -20, -10,   0,  10,  20,  30]),\n",
       " <a list of 7 Text yticklabel objects>)"
      ]
     },
     "execution_count": 20,
     "metadata": {},
     "output_type": "execute_result"
    },
    {
     "data": {
      "image/png": "[encoded data removed]",
      "text/plain": [
       "<matplotlib.figure.Figure at 0x116c4b278>"
      ]
     },
     "metadata": {},
     "output_type": "display_data"
    }
   ],
   "source": [
    "fit1.resid.plot(style='o')\n",
    "plt.xlabel('Data ID', rotation=0, fontsize=20, weight='bold') # data 21-40 is left for testing, not for training\n",
    "plt.ylabel('Residual',rotation=90, fontsize=20, weight='bold')\n",
    "\n",
    "plt.grid(False)\n",
    "ax.set_xlim([0,80])\n",
    "plt.xticks([0, 20, 40, 60, 80])\n",
    "plt.xticks(rotation=0, fontsize=15)\n",
    "\n",
    "ax.set_ylim([-30, 30])\n",
    "plt.yticks([-30, -20, -10, 0, 10, 20, 30])\n",
    "plt.yticks(rotation=0, fontsize=15)"
   ]
  },
  {
   "cell_type": "code",
   "execution_count": 21,
   "metadata": {
    "collapsed": true
   },
   "outputs": [],
   "source": [
    "model2 = smf.ols('Points ~ Goal_for + Goal_against', data=df_corr)\n",
    "fit2 = model2.fit()\n",
    "# fit2.summary()"
   ]
  },
  {
   "cell_type": "code",
   "execution_count": 22,
   "metadata": {
    "collapsed": true
   },
   "outputs": [],
   "source": [
    "model3 = smf.ols('Points ~ Goal_for + Goal_against + Goal_diff + Assist + Shots_On_Goal + Shots + Goals_Kicked', data=df_corr)\n",
    "fit3 = model3.fit()\n",
    "# fit3.summary()"
   ]
  },
  {
   "cell_type": "code",
   "execution_count": 23,
   "metadata": {
    "collapsed": true
   },
   "outputs": [],
   "source": [
    "model4 = smf.ols('Points ~ Goal_for + Goal_against + Goal_diff + Assist + Shots_On_Goal + Shots + Goals_Header + Goals_Kicked + Cards_Yellow + Cards_Red + Fouls + Offsides', data=df_corr)\n",
    "fit4 = model4.fit()\n",
    "# fit4.summary()"
   ]
  },
  {
   "cell_type": "markdown",
   "metadata": {},
   "source": [
    "## Model optimization"
   ]
  },
  {
   "cell_type": "markdown",
   "metadata": {},
   "source": [
    "I compared R_squ and r_squ_adj to justify the optimization of the model. The final model assumes linear model and includes two features (goals scored and goals lost). The adjusted R score indicates a good linear fit and low complexity avoids overfitting."
   ]
  },
  {
   "cell_type": "code",
   "execution_count": 24,
   "metadata": {},
   "outputs": [
    {
     "data": {
      "text/plain": [
       "(array([ 0.8 ,  0.85,  0.9 ,  0.95,  1.  ]),\n",
       " <a list of 5 Text yticklabel objects>)"
      ]
     },
     "execution_count": 24,
     "metadata": {},
     "output_type": "execute_result"
    },
    {
     "data": {
      "image/png": "[encoded data removed]",
      "text/plain": [
       "<matplotlib.figure.Figure at 0x116dc3390>"
      ]
     },
     "metadata": {},
     "output_type": "display_data"
    }
   ],
   "source": [
    "r_group = [1, fit1.rsquared, fit1.rsquared_adj, 2, fit2.rsquared, fit2.rsquared_adj, 5, fit3.rsquared, fit3.rsquared_adj, 9, fit4.rsquared, fit4.rsquared_adj]\n",
    "df_r = pd.DataFrame(np.array(r_group).reshape(-1,3), columns = ('id', 'sq', 'sq_adj'))\n",
    "df_r\n",
    "ax = df_r.plot.scatter(['id'], ['sq'], color='r', s=100)\n",
    "df_r.plot.scatter(['id'], ['sq_adj'], color='b', ax=ax, s=100)\n",
    "\n",
    "plt.xlabel('Feature numbers', rotation=0, fontsize=20, weight='bold')\n",
    "plt.ylabel('Score',rotation=90, fontsize=20, weight='bold')\n",
    "\n",
    "ax.set_xlim([0,10])\n",
    "plt.xticks([1, 2, 5,9])\n",
    "plt.xticks(rotation=0, fontsize=15)\n",
    "\n",
    "ax.set_ylim([0.8,1])\n",
    "plt.yticks([0.8, 0.85, 0.9, 0.95, 1])\n",
    "plt.yticks(rotation=0, fontsize=15)\n",
    "\n",
    "# labels = ['R squared', 'R squared adjusted']\n",
    "# ax.legend(labels, loc='center left', bbox_to_anchor=(1, 0.5), fontsize=14)"
   ]
  },
  {
   "cell_type": "code",
   "execution_count": 25,
   "metadata": {},
   "outputs": [
    {
     "data": {
      "text/plain": [
       "(array([ 0.92,  0.94,  0.96]), <a list of 3 Text yticklabel objects>)"
      ]
     },
     "execution_count": 25,
     "metadata": {},
     "output_type": "execute_result"
    },
    {
     "data": {
      "image/png": "[encoded data removed]",
      "text/plain": [
       "<matplotlib.figure.Figure at 0x1121b9630>"
      ]
     },
     "metadata": {},
     "output_type": "display_data"
    }
   ],
   "source": [
    "ax = df_r.plot.scatter(['id'], ['sq'], color='r', s=100)\n",
    "df_r.plot.scatter(['id'], ['sq_adj'], color='b', ax=ax, s=100)\n",
    "\n",
    "plt.xlabel('Feature numbers', rotation=0, fontsize=20, weight='bold')\n",
    "plt.ylabel('Score',rotation=90, fontsize=20, weight='bold')\n",
    "\n",
    "ax.set_xlim([2, 10])\n",
    "plt.xticks([1, 5, 9])\n",
    "plt.xticks(rotation=0, fontsize=15)\n",
    "\n",
    "ax.set_ylim([0.92,0.96])\n",
    "plt.yticks([0.92, 0.94, 0.96])\n",
    "plt.yticks(rotation=0, fontsize=15)"
   ]
  },
  {
   "cell_type": "markdown",
   "metadata": {},
   "source": [
    "Final model"
   ]
  },
  {
   "cell_type": "code",
   "execution_count": 26,
   "metadata": {
    "collapsed": true
   },
   "outputs": [],
   "source": [
    "# remove other unnecessary columns\n",
    "cols_final = ['Points', 'Goal_for', 'Goal_against']\n",
    "\n",
    "df_train = df.loc[:,cols_final] # 80 rows, 3 columns\n",
    "df_test = df_test.loc[:,cols_final] # 80 rows, 3 columns\n",
    "\n",
    "model_final = smf.ols('Points ~ Goal_for + Goal_against', data=df_train)\n",
    "fit_final = model_final.fit()\n",
    "\n",
    "# df_train.describe()\n",
    "# df_test.describe()\n",
    "# fit_final.summary()\n",
    "\n",
    "coef_1 = 0.5305\n",
    "coef_2 = -0.5903\n",
    "inter = 55.6632"
   ]
  },
  {
   "cell_type": "markdown",
   "metadata": {},
   "source": [
    "# Model prediction / Validation\n",
    "The model above was validated with test data (2013-2014 season): it correctly estimated final points for most teams but failed to predict the champion of that year."
   ]
  },
  {
   "cell_type": "code",
   "execution_count": 27,
   "metadata": {
    "collapsed": true,
    "scrolled": true
   },
   "outputs": [],
   "source": [
    "X = df_test.drop(['Points'], axis = 1) \n",
    "y = df_test['Points']\n",
    "df_test['Predict'] = df_test['Goal_for'] * coef_1 + df_test['Goal_against'] * coef_2 + inter\n",
    "x= df_test['Points']\n",
    "y = df_test['Predict']"
   ]
  },
  {
   "cell_type": "code",
   "execution_count": 28,
   "metadata": {},
   "outputs": [
    {
     "data": {
      "text/plain": [
       "<matplotlib.text.Text at 0x116f03c88>"
      ]
     },
     "execution_count": 28,
     "metadata": {},
     "output_type": "execute_result"
    },
    {
     "data": {
      "image/png": "[encoded data removed]",
      "text/plain": [
       "<matplotlib.figure.Figure at 0x1122215c0>"
      ]
     },
     "metadata": {},
     "output_type": "display_data"
    }
   ],
   "source": [
    "fig, ax = plt.subplots()\n",
    "fig.set_size_inches(6,6)\n",
    "ax = sns.regplot(x, y)\n",
    "# ax.scatter(x,y)\n",
    "\n",
    "ax.set_xlim([20, 100])\n",
    "plt.xticks([20, 40, 60, 80, 100]) # 20, 40, 60, \n",
    "plt.xticks(rotation=0, fontsize=15)\n",
    "\n",
    "ax.set_ylim([20, 100])\n",
    "plt.yticks([20, 40, 60, 80, 100]) # 20, 40, 60, \n",
    "plt.yticks(rotation=0, fontsize=15)\n",
    "\n",
    "plt.xlabel('Real points', rotation=0, fontsize=20)#, weight='bold')\n",
    "plt.ylabel('Predicted points',rotation=90, fontsize=20)#, weight='bold')"
   ]
  },
  {
   "cell_type": "code",
   "execution_count": 29,
   "metadata": {},
   "outputs": [
    {
     "data": {
      "text/plain": [
       "<matplotlib.text.Text at 0x11706deb8>"
      ]
     },
     "execution_count": 29,
     "metadata": {},
     "output_type": "execute_result"
    },
    {
     "data": {
      "image/png": "[encoded data removed]",
      "text/plain": [
       "<matplotlib.figure.Figure at 0x116cf4cf8>"
      ]
     },
     "metadata": {},
     "output_type": "display_data"
    }
   ],
   "source": [
    "fig, ax = plt.subplots()\n",
    "fig.set_size_inches(6,6)\n",
    "ax = sns.regplot(x, y, scatter_kws={\"s\": 500})\n",
    "# ax.scatter(x,y)\n",
    "\n",
    "ax.set_xlim([70, 100])\n",
    "plt.xticks([70, 80, 90, 100]) # 20, 40, 60, \n",
    "plt.xticks(rotation=0, fontsize=20)#, weight='bold')\n",
    "\n",
    "ax.set_ylim([70, 100])\n",
    "plt.yticks([70, 80, 90, 100]) # 20, 40, 60, \n",
    "plt.yticks(rotation=0, fontsize=20)#, weight='bold')\n",
    "plt.xlabel('Real points', rotation=0, fontsize=20) #weight='')\n",
    "plt.ylabel('Predicted points',rotation=90, fontsize=20)#, weight='bold')"
   ]
  },
  {
   "cell_type": "code",
   "execution_count": null,
   "metadata": {
    "collapsed": true
   },
   "outputs": [],
   "source": []
  },
  {
   "cell_type": "code",
   "execution_count": 30,
   "metadata": {
    "scrolled": true
   },
   "outputs": [
    {
     "name": "stderr",
     "output_type": "stream",
     "text": [
      "/Users/MingTang/anaconda/lib/python3.6/site-packages/ipykernel_launcher.py:3: SettingWithCopyWarning: \n",
      "A value is trying to be set on a copy of a slice from a DataFrame.\n",
      "Try using .loc[row_indexer,col_indexer] = value instead\n",
      "\n",
      "See the caveats in the documentation: http://pandas.pydata.org/pandas-docs/stable/indexing.html#indexing-view-versus-copy\n",
      "  This is separate from the ipykernel package so we can avoid doing imports until\n"
     ]
    },
    {
     "data": {
      "text/html": [
       "<div>\n",
       "<style>\n",
       "    .dataframe thead tr:only-child th {\n",
       "        text-align: right;\n",
       "    }\n",
       "\n",
       "    .dataframe thead th {\n",
       "        text-align: left;\n",
       "    }\n",
       "\n",
       "    .dataframe tbody tr th {\n",
       "        vertical-align: top;\n",
       "    }\n",
       "</style>\n",
       "<table border=\"1\" class=\"dataframe\">\n",
       "  <thead>\n",
       "    <tr style=\"text-align: right;\">\n",
       "      <th></th>\n",
       "      <th>Team</th>\n",
       "      <th>Rank</th>\n",
       "      <th>Points</th>\n",
       "      <th>Predict</th>\n",
       "      <th>Goal_for</th>\n",
       "      <th>Goal_against</th>\n",
       "      <th>Goal_diff</th>\n",
       "      <th>Assist</th>\n",
       "      <th>Shots_On_Goal</th>\n",
       "      <th>Shots</th>\n",
       "      <th>Goals_Header</th>\n",
       "      <th>Goals_Kicked</th>\n",
       "      <th>Cards_Yellow</th>\n",
       "      <th>Cards_Red</th>\n",
       "      <th>Fouls</th>\n",
       "      <th>Offsides</th>\n",
       "    </tr>\n",
       "  </thead>\n",
       "  <tbody>\n",
       "    <tr>\n",
       "      <th>22</th>\n",
       "      <td>Atletico Madrid</td>\n",
       "      <td>1</td>\n",
       "      <td>90</td>\n",
       "      <td>81.1639</td>\n",
       "      <td>77</td>\n",
       "      <td>26</td>\n",
       "      <td>51</td>\n",
       "      <td>56</td>\n",
       "      <td>212</td>\n",
       "      <td>486</td>\n",
       "      <td>18</td>\n",
       "      <td>56</td>\n",
       "      <td>97</td>\n",
       "      <td>2</td>\n",
       "      <td>523</td>\n",
       "      <td>130</td>\n",
       "    </tr>\n",
       "    <tr>\n",
       "      <th>23</th>\n",
       "      <td>Barcelona</td>\n",
       "      <td>2</td>\n",
       "      <td>87</td>\n",
       "      <td>89.2333</td>\n",
       "      <td>100</td>\n",
       "      <td>33</td>\n",
       "      <td>67</td>\n",
       "      <td>72</td>\n",
       "      <td>290</td>\n",
       "      <td>641</td>\n",
       "      <td>5</td>\n",
       "      <td>91</td>\n",
       "      <td>73</td>\n",
       "      <td>1</td>\n",
       "      <td>425</td>\n",
       "      <td>110</td>\n",
       "    </tr>\n",
       "    <tr>\n",
       "      <th>34</th>\n",
       "      <td>Real Madrid</td>\n",
       "      <td>3</td>\n",
       "      <td>87</td>\n",
       "      <td>88.4038</td>\n",
       "      <td>104</td>\n",
       "      <td>38</td>\n",
       "      <td>66</td>\n",
       "      <td>79</td>\n",
       "      <td>315</td>\n",
       "      <td>740</td>\n",
       "      <td>14</td>\n",
       "      <td>89</td>\n",
       "      <td>75</td>\n",
       "      <td>2</td>\n",
       "      <td>451</td>\n",
       "      <td>145</td>\n",
       "    </tr>\n",
       "  </tbody>\n",
       "</table>\n",
       "</div>"
      ],
      "text/plain": [
       "               Team  Rank  Points  Predict  Goal_for  Goal_against  Goal_diff  \\\n",
       "22  Atletico Madrid     1      90  81.1639        77            26         51   \n",
       "23        Barcelona     2      87  89.2333       100            33         67   \n",
       "34      Real Madrid     3      87  88.4038       104            38         66   \n",
       "\n",
       "    Assist  Shots_On_Goal  Shots  Goals_Header  Goals_Kicked  Cards_Yellow  \\\n",
       "22      56            212    486            18            56            97   \n",
       "23      72            290    641             5            91            73   \n",
       "34      79            315    740            14            89            75   \n",
       "\n",
       "    Cards_Red  Fouls  Offsides  \n",
       "22          2    523       130  \n",
       "23          1    425       110  \n",
       "34          2    451       145  "
      ]
     },
     "execution_count": 30,
     "metadata": {},
     "output_type": "execute_result"
    }
   ],
   "source": [
    "df_2013 = df_all[df_all['Season'] == '2013-2014']\n",
    "df_2013_top2 = df_2013[df_2013['Rank'] < 4]\n",
    "df_2013_top2['Predict'] = df_2013_top2['Goal_for'] * coef_1 + df_2013_top2['Goal_against'] * coef_2 + inter\n",
    "cols_final = ['Team', 'Rank', 'Points', 'Predict', 'Goal_for', 'Goal_against', 'Goal_diff', 'Assist', 'Shots_On_Goal', 'Shots', 'Goals_Header', 'Goals_Kicked', 'Cards_Yellow', 'Cards_Red', 'Fouls', 'Offsides']\n",
    "df_2013_top2 = df_2013_top2.loc[:,cols_final] # 80 rows, 3 columns\n",
    "df_2013_top2.head()"
   ]
  },
  {
   "cell_type": "code",
   "execution_count": 31,
   "metadata": {
    "collapsed": true
   },
   "outputs": [],
   "source": [
    "df_2013_final3 = pd.read_csv('https://raw.githubusercontent.com/tangming2008/Projects/master/02_Soccer/data/2013.csv') # read the csv file\n",
    "# pd.to_numeric(df_2013_final3)\n",
    "df_2013_final3.columns = ['Game', 'AM_goal_for', 'AM_goal_against','Barca_goal_for',  'Barca_goal_against','RM_goal_for', 'RM_goal_against']\n",
    "df_2013_final3['AM'] = df_2013_final3['AM_goal_for'] - df_2013_final3['AM_goal_against']\n",
    "df_2013_final3['Barca'] = df_2013_final3['Barca_goal_for'] - df_2013_final3['Barca_goal_against']\n",
    "df_2013_final3['RM'] = df_2013_final3['RM_goal_for'] - df_2013_final3['RM_goal_against']\n",
    "cols_2013_final3 = ['Game', 'AM_goal_for', 'AM_goal_against','Barca_goal_for',  'Barca_goal_against','RM_goal_for', 'RM_goal_against', 'AM', 'Barca', 'RM']\n",
    "df_2013_final3 = df_2013_final3.loc[:,cols_2013_final3] # 80 rows, 3 columns\n",
    "df_2013_final3 = df_2013_final3.apply(pd.to_numeric)"
   ]
  },
  {
   "cell_type": "markdown",
   "metadata": {},
   "source": [
    "The following graph compares the distribution of goals difference among top 3 teams and can be used to explain why the model fails at the extreme values. The details of the distribution of features during **each match** matters. 'AM' (Atlético Madrid) scored less, but this team lost much less goals (the 2nd bottom line is higher than other two teams). 3 points means the best after one match: 1:0 is more efficient than a victory."
   ]
  },
  {
   "cell_type": "code",
   "execution_count": 32,
   "metadata": {},
   "outputs": [
    {
     "data": {
      "text/plain": [
       "<matplotlib.text.Text at 0x1170efdd8>"
      ]
     },
     "execution_count": 32,
     "metadata": {},
     "output_type": "execute_result"
    },
    {
     "data": {
      "image/png": "[encoded data removed]",
      "text/plain": [
       "<matplotlib.figure.Figure at 0x117046b70>"
      ]
     },
     "metadata": {},
     "output_type": "display_data"
    }
   ],
   "source": [
    "cols_plot = ['AM', 'Barca', 'RM']\n",
    "df_plot = df_2013_final3.loc[:,cols_plot]\n",
    "df_plot.plot.box()\n",
    "\n",
    "# ax.set_xlim([20, 100])\n",
    "# plt.xticks([20, 40, 60, 80, 100])\n",
    "plt.xticks(rotation=0, fontsize=15)\n",
    "\n",
    "ax.set_ylim([-3, 8])\n",
    "plt.yticks([-2, 0, 2 , 4, 6, 8])\n",
    "plt.yticks(rotation=0, fontsize=15)\n",
    "\n",
    "plt.ylabel('Goal difference',rotation=90, fontsize=15, weight='bold')"
   ]
  }
 ],
 "metadata": {
  "kernelspec": {
   "display_name": "Python [default]",
   "language": "python",
   "name": "python3"
  },
  "language_info": {
   "codemirror_mode": {
    "name": "ipython",
    "version": 3
   },
   "file_extension": ".py",
   "mimetype": "text/x-python",
   "name": "python",
   "nbconvert_exporter": "python",
   "pygments_lexer": "ipython3",
   "version": "3.6.2"
  }
 },
 "nbformat": 4,
 "nbformat_minor": 2
}
