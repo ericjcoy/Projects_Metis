{
 "cells": [
  {
   "cell_type": "markdown",
   "metadata": {},
   "source": [
    "# Import packages"
   ]
  },
  {
   "cell_type": "markdown",
   "metadata": {},
   "source": [
    "### General packages"
   ]
  },
  {
   "cell_type": "code",
   "execution_count": 1,
   "metadata": {},
   "outputs": [
    {
     "name": "stderr",
     "output_type": "stream",
     "text": [
      "/Users/MingTang/anaconda/lib/python3.6/site-packages/sklearn/cross_validation.py:41: DeprecationWarning: This module was deprecated in version 0.18 in favor of the model_selection module into which all the refactored classes and functions are moved. Also note that the interface of the new CV iterators are different from that of this module. This module will be removed in 0.20.\n",
      "  \"This module will be removed in 0.20.\", DeprecationWarning)\n"
     ]
    }
   ],
   "source": [
    "import numpy as np\n",
    "import os\n",
    "from PIL import Image\n",
    "from IPython.display import SVG\n",
    "from sklearn.cross_validation import train_test_split"
   ]
  },
  {
   "cell_type": "markdown",
   "metadata": {},
   "source": [
    "### Plot and show results"
   ]
  },
  {
   "cell_type": "code",
   "execution_count": 2,
   "metadata": {
    "collapsed": true
   },
   "outputs": [],
   "source": [
    "%matplotlib inline\n",
    "import matplotlib.pyplot as plt\n",
    "\n",
    "# Display full output in Jupyter, not only last result.\n",
    "from IPython.core.interactiveshell import InteractiveShell\n",
    "InteractiveShell.ast_node_interactivity = \"all\""
   ]
  },
  {
   "cell_type": "markdown",
   "metadata": {},
   "source": [
    "### Keras"
   ]
  },
  {
   "cell_type": "code",
   "execution_count": 3,
   "metadata": {},
   "outputs": [
    {
     "name": "stderr",
     "output_type": "stream",
     "text": [
      "Using TensorFlow backend.\n",
      "/Users/MingTang/anaconda/lib/python3.6/importlib/_bootstrap.py:205: RuntimeWarning: compiletime version 3.5 of module 'tensorflow.python.framework.fast_tensor_util' does not match runtime version 3.6\n",
      "  return f(*args, **kwds)\n"
     ]
    }
   ],
   "source": [
    "from keras.preprocessing import image\n",
    "from keras.preprocessing.image import ImageDataGenerator\n",
    "from keras.models import Sequential, load_model\n",
    "from keras.layers import Dense, Activation, Dropout, Flatten, Conv2D, MaxPooling2D\n",
    "from keras.optimizers import SGD,RMSprop,adam\n",
    "from keras.utils import np_utils, to_categorical\n",
    "from keras.utils.vis_utils import model_to_dot, plot_model\n",
    "from keras.callbacks import EarlyStopping, ModelCheckpoint"
   ]
  },
  {
   "cell_type": "markdown",
   "metadata": {},
   "source": [
    "# Fucntions"
   ]
  },
  {
   "cell_type": "code",
   "execution_count": 4,
   "metadata": {
    "collapsed": true
   },
   "outputs": [],
   "source": [
    "def image_to_array(folder_path, result, image_max):\n",
    "    '''\n",
    "    input: folder path\n",
    "    output: X and y matrices\n",
    "    X - image matrix;\n",
    "    y - labels/result: 0 as clear and 1 as blur\n",
    "    image_max - max number of images to include\n",
    "    '''\n",
    "    X = []; y = []\n",
    "\n",
    "    for index, file_name in enumerate(os.listdir(folder_path)[:image_max]):\n",
    "         if file_name != '.DS_Store':\n",
    "            image_path = folder_path + '/' + file_name\n",
    "            img = image.load_img(image_path, target_size=(200, 200))\n",
    "            # img = img.convert('1')\n",
    "            X.append(np.asarray(img))\n",
    "            y.append(result) # 0 for clear; 1 for blurry\n",
    "\n",
    "            if index < 3:\n",
    "                # check the file names\n",
    "                print('Adjusted image size -', img.size, '| filename -', file_name)\n",
    "            else:\n",
    "                if index % 100 == 0:\n",
    "                    # check the progress when loading large dataset\n",
    "                    print(index, 'images loaded so far')\n",
    "\n",
    "    print('---\\n', len(X), 'images in this folder\\n')\n",
    "\n",
    "    return X, y"
   ]
  },
  {
   "cell_type": "code",
   "execution_count": null,
   "metadata": {
    "collapsed": true
   },
   "outputs": [],
   "source": [
    "def check_image_from_folder(folder_path, image_index):\n",
    "    '''\n",
    "    input: folder path & index of the image within the folder\n",
    "    output: show the image\n",
    "    '''\n",
    "    file_name = str(os.listdir(folder_path)[image_index])\n",
    "    image_path = folder_path + '/' + file_name\n",
    "    img = image.load_img(image_path, target_size=(200, 200))\n",
    "    return img"
   ]
  },
  {
   "cell_type": "code",
   "execution_count": null,
   "metadata": {
    "collapsed": true
   },
   "outputs": [],
   "source": [
    "def predict_folder_image(model, folder_path, image_index):\n",
    "    '''\n",
    "    input: folder path, index of the image inside the folder\n",
    "    output: show the image and the result predicted from the model\n",
    "    '''\n",
    "    \n",
    "    print('Folder: ',folder_path.split('/')[-1])\n",
    "    \n",
    "    test_pic= []\n",
    "    \n",
    "    file_name = os.listdir(folder_path)[image_index]\n",
    "    \n",
    "    if file_name != '.DS_Store':\n",
    "        image_path = folder_path + '/' + file_name\n",
    "        img = image.load_img(image_path, target_size=(200, 200))\n",
    "        test_pic.append(np.asarray(img))\n",
    "        test_pic = np.stack(test_pic)/255.\n",
    "\n",
    "        result = model.predict_classes(test_pic)#[0]\n",
    "        proba = model.predict_proba(test_pic)\n",
    "        print(result, proba)\n",
    "        \n",
    "    else:\n",
    "        img = 'This is DS_Store file'\n",
    "    \n",
    "    return img"
   ]
  }
 ],
 "metadata": {
  "kernelspec": {
   "display_name": "Python [default]",
   "language": "python",
   "name": "python3"
  },
  "language_info": {
   "codemirror_mode": {
    "name": "ipython",
    "version": 3
   },
   "file_extension": ".py",
   "mimetype": "text/x-python",
   "name": "python",
   "nbconvert_exporter": "python",
   "pygments_lexer": "ipython3",
   "version": "3.6.2"
  }
 },
 "nbformat": 4,
 "nbformat_minor": 2
}
